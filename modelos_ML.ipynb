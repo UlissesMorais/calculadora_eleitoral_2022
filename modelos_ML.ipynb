{
 "cells": [
  {
   "cell_type": "markdown",
   "id": "bc9a8805",
   "metadata": {},
   "source": [
    "## Libraries"
   ]
  },
  {
   "cell_type": "code",
   "execution_count": 1,
   "id": "62e48833",
   "metadata": {},
   "outputs": [],
   "source": [
    "import pandas as pd\n",
    "import numpy as np\n",
    "import os\n",
    "import matplotlib.pyplot as plt\n",
    "\n",
    "from sklearn.compose import ColumnTransformer\n",
    "from sklearn.preprocessing import StandardScaler\n",
    "from sklearn.model_selection import StratifiedShuffleSplit, cross_val_score, cross_val_predict, GridSearchCV\n",
    "from sklearn.linear_model import SGDClassifier, LogisticRegression\n",
    "from sklearn.ensemble import RandomForestClassifier\n",
    "from sklearn.svm import SVC\n",
    "from sklearn.metrics import confusion_matrix, precision_score, recall_score, f1_score, roc_curve\n"
   ]
  },
  {
   "cell_type": "markdown",
   "id": "cdab8ed7",
   "metadata": {},
   "source": [
    "## Importa dados"
   ]
  },
  {
   "cell_type": "code",
   "execution_count": 2,
   "id": "86bbed69",
   "metadata": {},
   "outputs": [],
   "source": [
    "# registra o diretório atual e muda para a pasta \"dataset\"\n",
    "current_dir_orig = os.getcwd()\n",
    "os.chdir(f\"{current_dir_orig}/dataset\")"
   ]
  },
  {
   "cell_type": "code",
   "execution_count": 3,
   "id": "21dcc96a",
   "metadata": {},
   "outputs": [],
   "source": [
    "depfed_dataset_df = pd.read_csv(r'./depfed_dataset.csv')\n",
    "\n",
    "# change to original directory\n",
    "os.chdir(current_dir_orig)"
   ]
  },
  {
   "cell_type": "code",
   "execution_count": 4,
   "id": "431b0f4c",
   "metadata": {
    "scrolled": true
   },
   "outputs": [
    {
     "data": {
      "text/html": [
       "<div>\n",
       "<style scoped>\n",
       "    .dataframe tbody tr th:only-of-type {\n",
       "        vertical-align: middle;\n",
       "    }\n",
       "\n",
       "    .dataframe tbody tr th {\n",
       "        vertical-align: top;\n",
       "    }\n",
       "\n",
       "    .dataframe thead th {\n",
       "        text-align: right;\n",
       "    }\n",
       "</style>\n",
       "<table border=\"1\" class=\"dataframe\">\n",
       "  <thead>\n",
       "    <tr style=\"text-align: right;\">\n",
       "      <th></th>\n",
       "      <th>SQ_CANDIDATO</th>\n",
       "      <th>NM_CANDIDATO</th>\n",
       "      <th>NR_IDADE_DATA_POSSE</th>\n",
       "      <th>REELEICAO</th>\n",
       "      <th>ST_ELEITORAL</th>\n",
       "      <th>COR_RACA_AMARELA</th>\n",
       "      <th>COR_RACA_BRANCA</th>\n",
       "      <th>COR_RACA_INDIGENA</th>\n",
       "      <th>COR_RACA_NAO_INFORMADO</th>\n",
       "      <th>COR_RACA_PARDA</th>\n",
       "      <th>COR_RACA_PRETA</th>\n",
       "      <th>GENERO</th>\n",
       "      <th>FUNDO ESPECIAL</th>\n",
       "      <th>OUTROS RECURSOS</th>\n",
       "      <th>FUNDO PARTIDARIO</th>\n",
       "      <th>RAZAO_CAND_VAGA_UE</th>\n",
       "      <th>RAZAO_CANDPART_VAGAS_UE</th>\n",
       "      <th>PART_PRES_POS</th>\n",
       "    </tr>\n",
       "  </thead>\n",
       "  <tbody>\n",
       "    <tr>\n",
       "      <th>0</th>\n",
       "      <td>70001650385</td>\n",
       "      <td>CELY LANGAMER MUNIZ</td>\n",
       "      <td>51</td>\n",
       "      <td>0.0</td>\n",
       "      <td>0.0</td>\n",
       "      <td>0.0</td>\n",
       "      <td>1.0</td>\n",
       "      <td>0.0</td>\n",
       "      <td>0.0</td>\n",
       "      <td>0.0</td>\n",
       "      <td>0.0</td>\n",
       "      <td>0.0</td>\n",
       "      <td>538615.0</td>\n",
       "      <td>0.0</td>\n",
       "      <td>0.0</td>\n",
       "      <td>25.750000</td>\n",
       "      <td>1.125000</td>\n",
       "      <td>6.0</td>\n",
       "    </tr>\n",
       "    <tr>\n",
       "      <th>1</th>\n",
       "      <td>170001618619</td>\n",
       "      <td>MARCOS BEZERRA CAMPELO</td>\n",
       "      <td>55</td>\n",
       "      <td>0.0</td>\n",
       "      <td>0.0</td>\n",
       "      <td>0.0</td>\n",
       "      <td>0.0</td>\n",
       "      <td>0.0</td>\n",
       "      <td>0.0</td>\n",
       "      <td>1.0</td>\n",
       "      <td>0.0</td>\n",
       "      <td>1.0</td>\n",
       "      <td>0.0</td>\n",
       "      <td>0.0</td>\n",
       "      <td>300000.0</td>\n",
       "      <td>17.320000</td>\n",
       "      <td>0.840000</td>\n",
       "      <td>6.0</td>\n",
       "    </tr>\n",
       "    <tr>\n",
       "      <th>2</th>\n",
       "      <td>220001605554</td>\n",
       "      <td>MARY TERESINHA BRAGANHOL</td>\n",
       "      <td>58</td>\n",
       "      <td>0.0</td>\n",
       "      <td>0.0</td>\n",
       "      <td>0.0</td>\n",
       "      <td>1.0</td>\n",
       "      <td>0.0</td>\n",
       "      <td>0.0</td>\n",
       "      <td>0.0</td>\n",
       "      <td>0.0</td>\n",
       "      <td>0.0</td>\n",
       "      <td>616525.0</td>\n",
       "      <td>243879.0</td>\n",
       "      <td>0.0</td>\n",
       "      <td>19.250000</td>\n",
       "      <td>1.125000</td>\n",
       "      <td>5.0</td>\n",
       "    </tr>\n",
       "    <tr>\n",
       "      <th>3</th>\n",
       "      <td>190001609675</td>\n",
       "      <td>FERNANDO DA SILVA FERNANDES</td>\n",
       "      <td>68</td>\n",
       "      <td>0.0</td>\n",
       "      <td>0.0</td>\n",
       "      <td>0.0</td>\n",
       "      <td>0.0</td>\n",
       "      <td>0.0</td>\n",
       "      <td>0.0</td>\n",
       "      <td>1.0</td>\n",
       "      <td>0.0</td>\n",
       "      <td>1.0</td>\n",
       "      <td>110800.0</td>\n",
       "      <td>0.0</td>\n",
       "      <td>0.0</td>\n",
       "      <td>22.891304</td>\n",
       "      <td>1.021739</td>\n",
       "      <td>6.0</td>\n",
       "    </tr>\n",
       "    <tr>\n",
       "      <th>4</th>\n",
       "      <td>130001612965</td>\n",
       "      <td>RAFAEL CANDIDO</td>\n",
       "      <td>32</td>\n",
       "      <td>0.0</td>\n",
       "      <td>0.0</td>\n",
       "      <td>0.0</td>\n",
       "      <td>1.0</td>\n",
       "      <td>0.0</td>\n",
       "      <td>0.0</td>\n",
       "      <td>0.0</td>\n",
       "      <td>0.0</td>\n",
       "      <td>1.0</td>\n",
       "      <td>150000.0</td>\n",
       "      <td>0.0</td>\n",
       "      <td>50000.0</td>\n",
       "      <td>19.962264</td>\n",
       "      <td>0.679245</td>\n",
       "      <td>6.0</td>\n",
       "    </tr>\n",
       "  </tbody>\n",
       "</table>\n",
       "</div>"
      ],
      "text/plain": [
       "   SQ_CANDIDATO                 NM_CANDIDATO  NR_IDADE_DATA_POSSE  REELEICAO  \\\n",
       "0   70001650385          CELY LANGAMER MUNIZ                   51        0.0   \n",
       "1  170001618619       MARCOS BEZERRA CAMPELO                   55        0.0   \n",
       "2  220001605554     MARY TERESINHA BRAGANHOL                   58        0.0   \n",
       "3  190001609675  FERNANDO DA SILVA FERNANDES                   68        0.0   \n",
       "4  130001612965               RAFAEL CANDIDO                   32        0.0   \n",
       "\n",
       "   ST_ELEITORAL  COR_RACA_AMARELA  COR_RACA_BRANCA  COR_RACA_INDIGENA  \\\n",
       "0           0.0               0.0              1.0                0.0   \n",
       "1           0.0               0.0              0.0                0.0   \n",
       "2           0.0               0.0              1.0                0.0   \n",
       "3           0.0               0.0              0.0                0.0   \n",
       "4           0.0               0.0              1.0                0.0   \n",
       "\n",
       "   COR_RACA_NAO_INFORMADO  COR_RACA_PARDA  COR_RACA_PRETA  GENERO  \\\n",
       "0                     0.0             0.0             0.0     0.0   \n",
       "1                     0.0             1.0             0.0     1.0   \n",
       "2                     0.0             0.0             0.0     0.0   \n",
       "3                     0.0             1.0             0.0     1.0   \n",
       "4                     0.0             0.0             0.0     1.0   \n",
       "\n",
       "   FUNDO ESPECIAL  OUTROS RECURSOS  FUNDO PARTIDARIO  RAZAO_CAND_VAGA_UE  \\\n",
       "0        538615.0              0.0               0.0           25.750000   \n",
       "1             0.0              0.0          300000.0           17.320000   \n",
       "2        616525.0         243879.0               0.0           19.250000   \n",
       "3        110800.0              0.0               0.0           22.891304   \n",
       "4        150000.0              0.0           50000.0           19.962264   \n",
       "\n",
       "   RAZAO_CANDPART_VAGAS_UE  PART_PRES_POS  \n",
       "0                 1.125000            6.0  \n",
       "1                 0.840000            6.0  \n",
       "2                 1.125000            5.0  \n",
       "3                 1.021739            6.0  \n",
       "4                 0.679245            6.0  "
      ]
     },
     "execution_count": 4,
     "metadata": {},
     "output_type": "execute_result"
    }
   ],
   "source": [
    "depfed_dataset_df.head()"
   ]
  },
  {
   "cell_type": "markdown",
   "id": "07077107",
   "metadata": {},
   "source": [
    "### Separa dataset em treinamento e teste"
   ]
  },
  {
   "cell_type": "code",
   "execution_count": 5,
   "id": "d9922b0b",
   "metadata": {},
   "outputs": [],
   "source": [
    "# separa o dataset inicial em treinamento e teste, estratificado pelo resultado eleitoral\n",
    "split = StratifiedShuffleSplit(n_splits=1, test_size=0.2, random_state=42)\n",
    "for train_index, test_index in split.split(depfed_dataset_df, depfed_dataset_df[\"ST_ELEITORAL\"]):\n",
    "    \n",
    "    strat_train_set = depfed_dataset_df.loc[train_index]\n",
    "    strat_test_set = depfed_dataset_df.loc[test_index]\n",
    "\n",
    "    \n",
    "# strat_test_set[\"ST_ELEITORAL\"].value_counts()/len(strat_test_set)\n",
    "depfed_train_df =  strat_train_set.copy().reset_index(drop=True)\n",
    "depfed_test_df =  strat_test_set.copy().reset_index(drop=True)"
   ]
  },
  {
   "cell_type": "markdown",
   "id": "75957fb6",
   "metadata": {},
   "source": [
    "### Buscando correlações"
   ]
  },
  {
   "cell_type": "code",
   "execution_count": 6,
   "id": "62c9508d",
   "metadata": {},
   "outputs": [
    {
     "data": {
      "text/plain": [
       "ST_ELEITORAL               1.000000\n",
       "REELEICAO                  0.564909\n",
       "FUNDO ESPECIAL             0.519590\n",
       "OUTROS RECURSOS            0.424164\n",
       "FUNDO PARTIDARIO           0.167828\n",
       "COR_RACA_BRANCA            0.108574\n",
       "GENERO                     0.092426\n",
       "RAZAO_CANDPART_VAGAS_UE    0.034827\n",
       "NR_IDADE_DATA_POSSE        0.014954\n",
       "COR_RACA_INDIGENA          0.014443\n",
       "COR_RACA_AMARELA           0.011531\n",
       "SQ_CANDIDATO              -0.002101\n",
       "COR_RACA_NAO_INFORMADO    -0.011036\n",
       "RAZAO_CAND_VAGA_UE        -0.019594\n",
       "COR_RACA_PRETA            -0.063821\n",
       "COR_RACA_PARDA            -0.069562\n",
       "PART_PRES_POS             -0.191977\n",
       "Name: ST_ELEITORAL, dtype: float64"
      ]
     },
     "execution_count": 6,
     "metadata": {},
     "output_type": "execute_result"
    }
   ],
   "source": [
    "# Matriz de correlações\n",
    "corr_matrix = depfed_train_df.corr()\n",
    "\n",
    "corr_matrix[\"ST_ELEITORAL\"].sort_values(ascending=False)"
   ]
  },
  {
   "cell_type": "code",
   "execution_count": 7,
   "id": "7ec3bb48",
   "metadata": {},
   "outputs": [
    {
     "data": {
      "text/plain": [
       "ST_ELEITORAL               1.000000\n",
       "RECEITA_TOTAL              0.576699\n",
       "REELEICAO                  0.564909\n",
       "FUNDO ESPECIAL             0.519590\n",
       "OUTROS RECURSOS            0.424164\n",
       "FUNDO PARTIDARIO           0.167828\n",
       "COR_RACA_BRANCA            0.108574\n",
       "GENERO                     0.092426\n",
       "RAZAO_CANDPART_VAGAS_UE    0.034827\n",
       "NR_IDADE_DATA_POSSE        0.014954\n",
       "COR_RACA_INDIGENA          0.014443\n",
       "COR_RACA_AMARELA           0.011531\n",
       "SQ_CANDIDATO              -0.002101\n",
       "COR_RACA_NAO_INFORMADO    -0.011036\n",
       "RAZAO_CAND_VAGA_UE        -0.019594\n",
       "COR_RACA_PRETA            -0.063821\n",
       "COR_RACA_PARDA            -0.069562\n",
       "PART_PRES_POS             -0.191977\n",
       "Name: ST_ELEITORAL, dtype: float64"
      ]
     },
     "execution_count": 7,
     "metadata": {},
     "output_type": "execute_result"
    }
   ],
   "source": [
    "# testando combinações de atributos\n",
    "depfed_train_df[\"RECEITA_TOTAL\"] = depfed_train_df[\"FUNDO ESPECIAL\"] + depfed_train_df[\"OUTROS RECURSOS\"] + depfed_train_df[\"FUNDO PARTIDARIO\"]\n",
    "\n",
    "corr_matrix = depfed_train_df.corr()\n",
    "\n",
    "corr_matrix[\"ST_ELEITORAL\"].sort_values(ascending=False)"
   ]
  },
  {
   "cell_type": "code",
   "execution_count": 8,
   "id": "45961bbc",
   "metadata": {},
   "outputs": [
    {
     "data": {
      "text/plain": [
       "<AxesSubplot:xlabel='RECEITA_TOTAL', ylabel='ST_ELEITORAL'>"
      ]
     },
     "execution_count": 8,
     "metadata": {},
     "output_type": "execute_result"
    },
    {
     "data": {
      "image/png": "[encoded data removed]",
      "text/plain": [
       "<Figure size 864x360 with 1 Axes>"
      ]
     },
     "metadata": {
      "needs_background": "light"
     },
     "output_type": "display_data"
    }
   ],
   "source": [
    "depfed_train_df.plot(kind=\"scatter\", x=\"RECEITA_TOTAL\", y=\"ST_ELEITORAL\", alpha=0.05, figsize=(12,5))"
   ]
  },
  {
   "cell_type": "code",
   "execution_count": 9,
   "id": "709e44b9",
   "metadata": {},
   "outputs": [
    {
     "data": {
      "text/html": [
       "<div>\n",
       "<style scoped>\n",
       "    .dataframe tbody tr th:only-of-type {\n",
       "        vertical-align: middle;\n",
       "    }\n",
       "\n",
       "    .dataframe tbody tr th {\n",
       "        vertical-align: top;\n",
       "    }\n",
       "\n",
       "    .dataframe thead th {\n",
       "        text-align: right;\n",
       "    }\n",
       "</style>\n",
       "<table border=\"1\" class=\"dataframe\">\n",
       "  <thead>\n",
       "    <tr style=\"text-align: right;\">\n",
       "      <th></th>\n",
       "      <th>NR_IDADE_DATA_POSSE</th>\n",
       "      <th>REELEICAO</th>\n",
       "      <th>COR_RACA_AMARELA</th>\n",
       "      <th>COR_RACA_BRANCA</th>\n",
       "      <th>COR_RACA_INDIGENA</th>\n",
       "      <th>COR_RACA_NAO_INFORMADO</th>\n",
       "      <th>COR_RACA_PARDA</th>\n",
       "      <th>COR_RACA_PRETA</th>\n",
       "      <th>GENERO</th>\n",
       "      <th>FUNDO ESPECIAL</th>\n",
       "      <th>OUTROS RECURSOS</th>\n",
       "      <th>FUNDO PARTIDARIO</th>\n",
       "      <th>RAZAO_CAND_VAGA_UE</th>\n",
       "      <th>RAZAO_CANDPART_VAGAS_UE</th>\n",
       "      <th>PART_PRES_POS</th>\n",
       "      <th>RECEITA_TOTAL</th>\n",
       "    </tr>\n",
       "  </thead>\n",
       "  <tbody>\n",
       "    <tr>\n",
       "      <th>0</th>\n",
       "      <td>65</td>\n",
       "      <td>0.0</td>\n",
       "      <td>0.0</td>\n",
       "      <td>1.0</td>\n",
       "      <td>0.0</td>\n",
       "      <td>0.0</td>\n",
       "      <td>0.0</td>\n",
       "      <td>0.0</td>\n",
       "      <td>1.0</td>\n",
       "      <td>10256.41</td>\n",
       "      <td>30750.00</td>\n",
       "      <td>0.0</td>\n",
       "      <td>20.828571</td>\n",
       "      <td>0.700000</td>\n",
       "      <td>6.0</td>\n",
       "      <td>41006.41</td>\n",
       "    </tr>\n",
       "    <tr>\n",
       "      <th>1</th>\n",
       "      <td>60</td>\n",
       "      <td>0.0</td>\n",
       "      <td>0.0</td>\n",
       "      <td>1.0</td>\n",
       "      <td>0.0</td>\n",
       "      <td>0.0</td>\n",
       "      <td>0.0</td>\n",
       "      <td>0.0</td>\n",
       "      <td>0.0</td>\n",
       "      <td>40000.00</td>\n",
       "      <td>0.00</td>\n",
       "      <td>0.0</td>\n",
       "      <td>22.891304</td>\n",
       "      <td>0.826087</td>\n",
       "      <td>6.0</td>\n",
       "      <td>40000.00</td>\n",
       "    </tr>\n",
       "    <tr>\n",
       "      <th>2</th>\n",
       "      <td>43</td>\n",
       "      <td>0.0</td>\n",
       "      <td>0.0</td>\n",
       "      <td>0.0</td>\n",
       "      <td>0.0</td>\n",
       "      <td>0.0</td>\n",
       "      <td>0.0</td>\n",
       "      <td>1.0</td>\n",
       "      <td>0.0</td>\n",
       "      <td>30000.00</td>\n",
       "      <td>0.00</td>\n",
       "      <td>6060.6</td>\n",
       "      <td>19.962264</td>\n",
       "      <td>1.018868</td>\n",
       "      <td>5.0</td>\n",
       "      <td>36060.60</td>\n",
       "    </tr>\n",
       "    <tr>\n",
       "      <th>3</th>\n",
       "      <td>42</td>\n",
       "      <td>0.0</td>\n",
       "      <td>0.0</td>\n",
       "      <td>0.0</td>\n",
       "      <td>0.0</td>\n",
       "      <td>0.0</td>\n",
       "      <td>1.0</td>\n",
       "      <td>0.0</td>\n",
       "      <td>0.0</td>\n",
       "      <td>10000.00</td>\n",
       "      <td>0.00</td>\n",
       "      <td>0.0</td>\n",
       "      <td>17.769231</td>\n",
       "      <td>0.410256</td>\n",
       "      <td>6.0</td>\n",
       "      <td>10000.00</td>\n",
       "    </tr>\n",
       "    <tr>\n",
       "      <th>4</th>\n",
       "      <td>52</td>\n",
       "      <td>0.0</td>\n",
       "      <td>0.0</td>\n",
       "      <td>1.0</td>\n",
       "      <td>0.0</td>\n",
       "      <td>0.0</td>\n",
       "      <td>0.0</td>\n",
       "      <td>0.0</td>\n",
       "      <td>0.0</td>\n",
       "      <td>0.00</td>\n",
       "      <td>325.53</td>\n",
       "      <td>150000.0</td>\n",
       "      <td>18.875000</td>\n",
       "      <td>1.125000</td>\n",
       "      <td>2.0</td>\n",
       "      <td>150325.53</td>\n",
       "    </tr>\n",
       "  </tbody>\n",
       "</table>\n",
       "</div>"
      ],
      "text/plain": [
       "   NR_IDADE_DATA_POSSE  REELEICAO  COR_RACA_AMARELA  COR_RACA_BRANCA  \\\n",
       "0                   65        0.0               0.0              1.0   \n",
       "1                   60        0.0               0.0              1.0   \n",
       "2                   43        0.0               0.0              0.0   \n",
       "3                   42        0.0               0.0              0.0   \n",
       "4                   52        0.0               0.0              1.0   \n",
       "\n",
       "   COR_RACA_INDIGENA  COR_RACA_NAO_INFORMADO  COR_RACA_PARDA  COR_RACA_PRETA  \\\n",
       "0                0.0                     0.0             0.0             0.0   \n",
       "1                0.0                     0.0             0.0             0.0   \n",
       "2                0.0                     0.0             0.0             1.0   \n",
       "3                0.0                     0.0             1.0             0.0   \n",
       "4                0.0                     0.0             0.0             0.0   \n",
       "\n",
       "   GENERO  FUNDO ESPECIAL  OUTROS RECURSOS  FUNDO PARTIDARIO  \\\n",
       "0     1.0        10256.41         30750.00               0.0   \n",
       "1     0.0        40000.00             0.00               0.0   \n",
       "2     0.0        30000.00             0.00            6060.6   \n",
       "3     0.0        10000.00             0.00               0.0   \n",
       "4     0.0            0.00           325.53          150000.0   \n",
       "\n",
       "   RAZAO_CAND_VAGA_UE  RAZAO_CANDPART_VAGAS_UE  PART_PRES_POS  RECEITA_TOTAL  \n",
       "0           20.828571                 0.700000            6.0       41006.41  \n",
       "1           22.891304                 0.826087            6.0       40000.00  \n",
       "2           19.962264                 1.018868            5.0       36060.60  \n",
       "3           17.769231                 0.410256            6.0       10000.00  \n",
       "4           18.875000                 1.125000            2.0      150325.53  "
      ]
     },
     "execution_count": 9,
     "metadata": {},
     "output_type": "execute_result"
    }
   ],
   "source": [
    "# guarda os targets em st_eleitoral\n",
    "y_train = depfed_train_df[\"ST_ELEITORAL\"].values\n",
    "\n",
    "depfed_dataset = depfed_train_df.drop(['SQ_CANDIDATO','NM_CANDIDATO','ST_ELEITORAL'], axis=1, inplace=False)\n",
    "depfed_dataset.head()"
   ]
  },
  {
   "cell_type": "markdown",
   "id": "2b33c1d5",
   "metadata": {},
   "source": [
    "### Scaling"
   ]
  },
  {
   "cell_type": "code",
   "execution_count": 10,
   "id": "20b6f0d2",
   "metadata": {},
   "outputs": [],
   "source": [
    "# pipeline de transformação. As colunas do dataset saem trocadas de acodo com o ColumnTransformer\n",
    "\n",
    "num_columns = ['NR_IDADE_DATA_POSSE',\n",
    "               'FUNDO ESPECIAL',\n",
    "               'OUTROS RECURSOS',\n",
    "               'FUNDO PARTIDARIO',\n",
    "               'RAZAO_CAND_VAGA_UE',\n",
    "               'RAZAO_CANDPART_VAGAS_UE',\n",
    "               'PART_PRES_POS',\n",
    "               'RECEITA_TOTAL'\n",
    "              ]\n",
    "\n",
    "full_pipeline = ColumnTransformer([(\"num\", StandardScaler(), num_columns)], remainder='passthrough')\n",
    "\n",
    "X_train_prep = full_pipeline.fit_transform(depfed_dataset)\n",
    "\n",
    "# full_pipeline.get_feature_names_out(depfed_dataset.columns)"
   ]
  },
  {
   "cell_type": "markdown",
   "id": "7d508e49",
   "metadata": {},
   "source": [
    "### 1° Classificador - SGD Classifier"
   ]
  },
  {
   "cell_type": "code",
   "execution_count": 11,
   "id": "cfc689ba",
   "metadata": {},
   "outputs": [
    {
     "data": {
      "text/plain": [
       "array([0., 0., 0., 0., 0., 0., 0., 0., 0., 0.])"
      ]
     },
     "execution_count": 11,
     "metadata": {},
     "output_type": "execute_result"
    }
   ],
   "source": [
    "# treina SGDClassifier()\n",
    "sgd_clf = SGDClassifier(loss='hinge', penalty='elasticnet', alpha=0.01, l1_ratio=0.6, random_state=42)\n",
    "sgd_clf.fit(X_train_prep, y_train)\n",
    "\n",
    "sgd_clf.predict(X_train_prep[:10,:])"
   ]
  },
  {
   "cell_type": "markdown",
   "id": "7865f616",
   "metadata": {},
   "source": [
    "#### Desempenho\n",
    "\n",
    "Como estamos manipulando **dados assimétricos**, uma vez que a proporção de candidatos eleitos é bem menor do que não eleitos, é normal a acurácia ser bem alta. Para avaliarmos melhor as previsões, usaremos métodos mais robustos."
   ]
  },
  {
   "cell_type": "code",
   "execution_count": 12,
   "id": "c46a5ecf",
   "metadata": {},
   "outputs": [
    {
     "data": {
      "text/plain": [
       "0.0    0.948596\n",
       "1.0    0.051404\n",
       "Name: ST_ELEITORAL, dtype: float64"
      ]
     },
     "execution_count": 12,
     "metadata": {},
     "output_type": "execute_result"
    }
   ],
   "source": [
    "# proporção de eleitos (1) e não eleitos (0) no conjunto de treinamento\n",
    "depfed_train_df[\"ST_ELEITORAL\"].value_counts()/len(depfed_train_df)"
   ]
  },
  {
   "cell_type": "code",
   "execution_count": 13,
   "id": "2ceedc73",
   "metadata": {},
   "outputs": [
    {
     "data": {
      "text/plain": [
       "array([0.95864662, 0.95673981, 0.95799373, 0.9661442 , 0.95673981])"
      ]
     },
     "execution_count": 13,
     "metadata": {},
     "output_type": "execute_result"
    }
   ],
   "source": [
    "# computa a acurácia em cada fold\n",
    "cross_val_score(sgd_clf, X_train_prep, y_train, cv=None, scoring=\"accuracy\")"
   ]
  },
  {
   "cell_type": "code",
   "execution_count": 14,
   "id": "0b18c580",
   "metadata": {},
   "outputs": [
    {
     "name": "stdout",
     "output_type": "stream",
     "text": [
      "Matriz de confusão: \n",
      " [[7470   96]\n",
      " [ 229  181]]\n",
      "\n",
      "Precision:  0.6534296028880866\n",
      "Recall:  0.44146341463414634\n",
      "F1 score:  0.5269286754002912\n"
     ]
    }
   ],
   "source": [
    "# faz a previsão para ca instancia em cada fold\n",
    "y_train_pred = cross_val_predict(sgd_clf, X_train_prep, y_train, cv=None)\n",
    "\n",
    "# matriz de confusão\n",
    "conf_matrix = confusion_matrix(y_train, y_train_pred)\n",
    "print(\"Matriz de confusão: \\n\", conf_matrix)\n",
    "\n",
    "# calcula precion e recall das previsões\n",
    "precision = precision_score(y_train, y_train_pred)\n",
    "recall = recall_score(y_train, y_train_pred)\n",
    "\n",
    "# F1 score\n",
    "f1_scr = f1_score(y_train, y_train_pred)\n",
    "\n",
    "print(\"\\nPrecision: \", precision)\n",
    "print(\"Recall: \", recall)\n",
    "print(\"F1 score: \", f1_scr)\n"
   ]
  },
  {
   "cell_type": "code",
   "execution_count": 15,
   "id": "28de7caa",
   "metadata": {},
   "outputs": [
    {
     "data": {
      "image/png": "[encoded data removed]",
      "text/plain": [
       "<Figure size 432x288 with 1 Axes>"
      ]
     },
     "metadata": {
      "needs_background": "light"
     },
     "output_type": "display_data"
    }
   ],
   "source": [
    "def plot_roc_curve(fpr, tpr, label=None):\n",
    "    plt.plot(fpr, tpr, linewidth=2, label=label)\n",
    "    plt.plot([0,1], [0,1], 'k--')\n",
    "    plt.grid()\n",
    "    plt.ylim([0, 1.0])\n",
    "    plt.xlim([0, 1.0])\n",
    "    plt.ylabel('Taxa de Verdadeiro Positivo')\n",
    "    plt.xlabel('Taxa de Falso Positivo')\n",
    "\n",
    "# retorna o score de cada instância de treinamento\n",
    "y_scores_sgd = cross_val_predict(sgd_clf, X_train_prep, y_train, cv=None, method=\"decision_function\")\n",
    "\n",
    "fpr, tpr, thresholds = roc_curve(y_train, y_scores_sgd)\n",
    "\n",
    "# Plot\n",
    "plot_roc_curve(fpr, tpr)\n",
    "plt.show()\n",
    "\n"
   ]
  },
  {
   "cell_type": "markdown",
   "id": "23affe8e",
   "metadata": {},
   "source": [
    "### 2° Classificador - Random Forest"
   ]
  },
  {
   "cell_type": "code",
   "execution_count": 16,
   "id": "2fad7837",
   "metadata": {},
   "outputs": [
    {
     "data": {
      "text/plain": [
       "array([0., 0., 0., 0., 0., 0., 0., 0., 0., 0.])"
      ]
     },
     "execution_count": 16,
     "metadata": {},
     "output_type": "execute_result"
    }
   ],
   "source": [
    "# treina RandomForestClassifier()\n",
    "forest_clf = RandomForestClassifier(n_estimators=300, min_samples_leaf=3, bootstrap=True, random_state=42)\n",
    "forest_clf.fit(X_train_prep, y_train)\n",
    "\n",
    "forest_clf.predict(X_train_prep[:10,:])"
   ]
  },
  {
   "cell_type": "code",
   "execution_count": 17,
   "id": "62db0c44",
   "metadata": {},
   "outputs": [
    {
     "name": "stdout",
     "output_type": "stream",
     "text": [
      "Matriz de confusão: \n",
      " [[7459  107]\n",
      " [ 209  201]]\n",
      "\n",
      "Precision:  0.6525974025974026\n",
      "Recall:  0.4902439024390244\n",
      "F1 score:  0.5598885793871866\n"
     ]
    }
   ],
   "source": [
    "# faz a previsão para ca instancia em cada fold\n",
    "y_train_pred = cross_val_predict(forest_clf, X_train_prep, y_train, cv=None)\n",
    "\n",
    "# matriz de confusão\n",
    "conf_matrix = confusion_matrix(y_train, y_train_pred)\n",
    "print(\"Matriz de confusão: \\n\", conf_matrix)\n",
    "\n",
    "# calcula precion e recall das previsões\n",
    "precision = precision_score(y_train, y_train_pred)\n",
    "recall = recall_score(y_train, y_train_pred)\n",
    "\n",
    "# F1 score\n",
    "f1_scr = f1_score(y_train, y_train_pred)\n",
    "\n",
    "print(\"\\nPrecision: \", precision)\n",
    "print(\"Recall: \", recall)\n",
    "print(\"F1 score: \", f1_scr)\n"
   ]
  },
  {
   "cell_type": "code",
   "execution_count": 18,
   "id": "6284789f",
   "metadata": {},
   "outputs": [
    {
     "data": {
      "image/png": "[encoded data removed]",
      "text/plain": [
       "<Figure size 432x288 with 1 Axes>"
      ]
     },
     "metadata": {
      "needs_background": "light"
     },
     "output_type": "display_data"
    }
   ],
   "source": [
    "# retorna a probabilidade de cada instância de treinamento\n",
    "y_probas_forest = cross_val_predict(forest_clf, X_train_prep, y_train, cv=None, method=\"predict_proba\")\n",
    "\n",
    "# seleciona os scores positivos\n",
    "y_scores_forest = y_probas_forest[:, 1]\n",
    "\n",
    "fpr_forest, tpr_forest, thresholds_forest = roc_curve(y_train, y_scores_forest)\n",
    "\n",
    "# Plot\n",
    "plt.plot(fpr, tpr, \"b:\", label=\"SGD\")\n",
    "plot_roc_curve(fpr_forest, tpr_forest, label=\"Random Forest\")\n",
    "plt.legend(loc=\"lower right\")\n",
    "plt.show()"
   ]
  },
  {
   "cell_type": "markdown",
   "id": "cce31ab9",
   "metadata": {},
   "source": [
    "### 3° Classificador - Logistic Regression"
   ]
  },
  {
   "cell_type": "code",
   "execution_count": 19,
   "id": "9cf9886f",
   "metadata": {},
   "outputs": [
    {
     "data": {
      "text/plain": [
       "array([0., 0., 0., 0., 0., 0., 0., 0., 0., 0.])"
      ]
     },
     "execution_count": 19,
     "metadata": {},
     "output_type": "execute_result"
    }
   ],
   "source": [
    "# treina LogisticRegressionCV()\n",
    "logreg_clf = LogisticRegression(C=0.1, penalty='l1', solver='liblinear', random_state=42, max_iter=10000)\n",
    "logreg_clf.fit(X_train_prep, y_train)\n",
    "\n",
    "logreg_clf.predict(X_train_prep[:10,:])"
   ]
  },
  {
   "cell_type": "code",
   "execution_count": 20,
   "id": "ec9404b3",
   "metadata": {},
   "outputs": [
    {
     "data": {
      "image/png": "[encoded data removed]",
      "text/plain": [
       "<Figure size 432x324 with 1 Axes>"
      ]
     },
     "metadata": {
      "needs_background": "light"
     },
     "output_type": "display_data"
    }
   ],
   "source": [
    "# retorna a probabilidade de cada instância de treinamento\n",
    "y_probas_logreg = cross_val_predict(logreg_clf, X_train_prep, y_train, cv=None, method=\"predict_proba\")\n",
    "\n",
    "# seleciona os scores positivos\n",
    "y_scores_logreg = y_probas_logreg[:, 1]\n",
    "\n",
    "fpr_logreg, tpr_logreg, thresholds_logreg = roc_curve(y_train, y_scores_logreg)\n",
    "\n",
    "# Plot\n",
    "plt.figure(figsize=(6,4.5))\n",
    "plt.plot(fpr, tpr, \"b:\", label=\"SGD\")\n",
    "plt.plot(fpr_forest, tpr_forest, \"g:\", label=\"Random Forest\")\n",
    "plot_roc_curve(fpr_logreg, tpr_logreg, label=\"Logistic Regression\")\n",
    "plt.legend(loc=\"lower right\")\n",
    "plt.show()"
   ]
  },
  {
   "cell_type": "markdown",
   "id": "39e2ea40",
   "metadata": {},
   "source": [
    "### 4° Classificador - SVM"
   ]
  },
  {
   "cell_type": "code",
   "execution_count": 21,
   "id": "c628bf00",
   "metadata": {},
   "outputs": [
    {
     "data": {
      "text/plain": [
       "array([0., 0., 0., 0., 0., 0., 0., 0., 0., 0.])"
      ]
     },
     "execution_count": 21,
     "metadata": {},
     "output_type": "execute_result"
    }
   ],
   "source": [
    "# treina SVC()\n",
    "svc_clf = SVC(C=0.1, kernel='rbf', degree=3, gamma='scale', tol=0.0001, random_state=42)\n",
    "svc_clf.fit(X_train_prep, y_train)\n",
    "\n",
    "svc_clf.predict(X_train_prep[:10,:])"
   ]
  },
  {
   "cell_type": "code",
   "execution_count": 22,
   "id": "a1377fb1",
   "metadata": {},
   "outputs": [
    {
     "data": {
      "image/png": "[encoded data removed]",
      "text/plain": [
       "<Figure size 720x432 with 1 Axes>"
      ]
     },
     "metadata": {
      "needs_background": "light"
     },
     "output_type": "display_data"
    }
   ],
   "source": [
    "# retorna o score de cada instância de treinamento\n",
    "y_scores_svc = cross_val_predict(svc_clf, X_train_prep, y_train, cv=None, method=\"decision_function\")\n",
    "\n",
    "fpr_svc, tpr_svc, thresholds_svc = roc_curve(y_train, y_scores_svc)\n",
    "\n",
    "# Plot\n",
    "plt.figure(figsize=(10,6))\n",
    "plt.plot(fpr, tpr, \"b:\", label=\"SGD\")\n",
    "plt.plot(fpr_forest, tpr_forest, \"g:\", label=\"Random Forest\")\n",
    "plt.plot(fpr_logreg, tpr_logreg, \"y:\", label=\"Logistic Regression\")\n",
    "plot_roc_curve(fpr_svc, tpr_svc, label=\"SVC\")\n",
    "plt.legend(loc=\"lower right\")\n",
    "plt.show()"
   ]
  },
  {
   "cell_type": "code",
   "execution_count": null,
   "id": "d8906b38",
   "metadata": {},
   "outputs": [],
   "source": []
  },
  {
   "cell_type": "code",
   "execution_count": null,
   "id": "9e255599",
   "metadata": {},
   "outputs": [],
   "source": []
  },
  {
   "cell_type": "markdown",
   "id": "acd50265",
   "metadata": {},
   "source": [
    "### 1° Optimização - SGD Classifier"
   ]
  },
  {
   "cell_type": "code",
   "execution_count": 23,
   "id": "9d7702e4",
   "metadata": {},
   "outputs": [
    {
     "data": {
      "text/plain": [
       "GridSearchCV(estimator=SGDClassifier(max_iter=10000, random_state=42,\n",
       "                                     tol=0.0001),\n",
       "             param_grid=[{'alpha': [0.0001, 0.001, 0.01, 0.1, 1.0, 10],\n",
       "                          'l1_ratio': [0.0, 0.2, 0.4, 0.6000000000000001, 0.8,\n",
       "                                       1.0],\n",
       "                          'penalty': ['l2', 'l1', 'elasticnet']}],\n",
       "             scoring='roc_auc')"
      ]
     },
     "execution_count": 23,
     "metadata": {},
     "output_type": "execute_result"
    }
   ],
   "source": [
    "param_grid = [{'penalty': ['l2', 'l1', 'elasticnet'],\n",
    "               'alpha': [0.0001, 0.001, 0.01, 0.1, 1.0, 10],\n",
    "               'l1_ratio': np.linspace(0.0, 1.0, num=6).tolist()               \n",
    "              }]\n",
    "\n",
    "sgd_clf = SGDClassifier(loss='hinge', max_iter=10000, tol=0.0001, random_state=42, learning_rate='optimal')\n",
    "\n",
    "grid_search = GridSearchCV(sgd_clf, param_grid, scoring='roc_auc', cv=None)\n",
    "\n",
    "grid_search.fit(X_train_prep, y_train)\n"
   ]
  },
  {
   "cell_type": "code",
   "execution_count": 24,
   "id": "415204c7",
   "metadata": {},
   "outputs": [
    {
     "data": {
      "text/plain": [
       "{'alpha': 0.01, 'l1_ratio': 0.6000000000000001, 'penalty': 'elasticnet'}"
      ]
     },
     "execution_count": 24,
     "metadata": {},
     "output_type": "execute_result"
    }
   ],
   "source": [
    "grid_search.best_params_"
   ]
  },
  {
   "cell_type": "code",
   "execution_count": 25,
   "id": "a9967c84",
   "metadata": {},
   "outputs": [
    {
     "data": {
      "text/plain": [
       "0.9684449849965867"
      ]
     },
     "execution_count": 25,
     "metadata": {},
     "output_type": "execute_result"
    }
   ],
   "source": [
    "grid_search.best_score_"
   ]
  },
  {
   "cell_type": "markdown",
   "id": "2bffc53e",
   "metadata": {},
   "source": [
    "### 2° Optimização - Random Forest"
   ]
  },
  {
   "cell_type": "code",
   "execution_count": 26,
   "id": "ad3f7352",
   "metadata": {},
   "outputs": [
    {
     "data": {
      "text/plain": [
       "GridSearchCV(estimator=RandomForestClassifier(random_state=42),\n",
       "             param_grid=[{'bootstrap': [True], 'criterion': ['gini'],\n",
       "                          'min_samples_leaf': [3], 'min_samples_split': [2],\n",
       "                          'n_estimators': [300]}],\n",
       "             scoring='roc_auc')"
      ]
     },
     "execution_count": 26,
     "metadata": {},
     "output_type": "execute_result"
    }
   ],
   "source": [
    "param_grid = [{'n_estimators': [300],\n",
    "               'criterion': ['gini'],\n",
    "               'min_samples_split': [2],\n",
    "               'min_samples_leaf': [3],\n",
    "               'bootstrap': [True],\n",
    "               \n",
    "              }]\n",
    "\n",
    "forest_clf = RandomForestClassifier(random_state=42)\n",
    "\n",
    "grid_search_forest = GridSearchCV(forest_clf, param_grid, scoring='roc_auc', cv=None)\n",
    "\n",
    "grid_search_forest.fit(X_train_prep, y_train)\n"
   ]
  },
  {
   "cell_type": "code",
   "execution_count": 27,
   "id": "6b7ede6c",
   "metadata": {},
   "outputs": [
    {
     "data": {
      "text/plain": [
       "{'bootstrap': True,\n",
       " 'criterion': 'gini',\n",
       " 'min_samples_leaf': 3,\n",
       " 'min_samples_split': 2,\n",
       " 'n_estimators': 300}"
      ]
     },
     "execution_count": 27,
     "metadata": {},
     "output_type": "execute_result"
    }
   ],
   "source": [
    "grid_search_forest.best_params_"
   ]
  },
  {
   "cell_type": "code",
   "execution_count": 28,
   "id": "630c613e",
   "metadata": {},
   "outputs": [
    {
     "data": {
      "text/plain": [
       "0.9739917461156153"
      ]
     },
     "execution_count": 28,
     "metadata": {},
     "output_type": "execute_result"
    }
   ],
   "source": [
    "grid_search_forest.best_score_"
   ]
  },
  {
   "cell_type": "code",
   "execution_count": null,
   "id": "76e0da8d",
   "metadata": {},
   "outputs": [],
   "source": []
  },
  {
   "cell_type": "markdown",
   "id": "1a2d32b1",
   "metadata": {},
   "source": [
    "### 3° Optimização - Logistic regression"
   ]
  },
  {
   "cell_type": "code",
   "execution_count": 29,
   "id": "41534d4c",
   "metadata": {},
   "outputs": [
    {
     "data": {
      "text/plain": [
       "GridSearchCV(estimator=LogisticRegression(max_iter=10000, random_state=42,\n",
       "                                          solver='saga'),\n",
       "             param_grid=[{'C': [0.0001, 0.001, 0.01, 0.1, 1.0, 10.0, 100.0,\n",
       "                                1000.0, 10000.0],\n",
       "                          'l1_ratio': [0.0, 0.2, 0.4, 0.6000000000000001, 0.8,\n",
       "                                       1.0],\n",
       "                          'penalty': ['elasticnet']}],\n",
       "             scoring='roc_auc')"
      ]
     },
     "execution_count": 29,
     "metadata": {},
     "output_type": "execute_result"
    }
   ],
   "source": [
    "param_grid = [{'penalty': ['elasticnet'],\n",
    "               'C': np.logspace(-4, 4, num=9).tolist(),\n",
    "               'l1_ratio': np.linspace(0.0, 1.0, num=6).tolist()\n",
    "              }]\n",
    "\n",
    "logreg_clf = LogisticRegression(tol=0.0001, random_state=42, solver='saga', max_iter=10000)\n",
    "\n",
    "grid_search_logreg = GridSearchCV(logreg_clf, param_grid, scoring='roc_auc', cv=None)\n",
    "\n",
    "grid_search_logreg.fit(X_train_prep, y_train)"
   ]
  },
  {
   "cell_type": "code",
   "execution_count": 30,
   "id": "2bf0fd2e",
   "metadata": {},
   "outputs": [
    {
     "data": {
      "text/plain": [
       "{'C': 0.1, 'l1_ratio': 1.0, 'penalty': 'elasticnet'}"
      ]
     },
     "execution_count": 30,
     "metadata": {},
     "output_type": "execute_result"
    }
   ],
   "source": [
    "grid_search_logreg.best_params_"
   ]
  },
  {
   "cell_type": "code",
   "execution_count": 31,
   "id": "28afb3d5",
   "metadata": {},
   "outputs": [
    {
     "data": {
      "text/plain": [
       "0.9676494673085007"
      ]
     },
     "execution_count": 31,
     "metadata": {},
     "output_type": "execute_result"
    }
   ],
   "source": [
    "grid_search_logreg.best_score_"
   ]
  },
  {
   "cell_type": "markdown",
   "id": "6c81775e",
   "metadata": {},
   "source": [
    "### 4° Optimização - SVC"
   ]
  },
  {
   "cell_type": "code",
   "execution_count": null,
   "id": "204c394d",
   "metadata": {},
   "outputs": [],
   "source": [
    "param_grid = [{'kernel': ['linear', 'poly', 'rbf'],\n",
    "               'C': np.logspace(-4, 4, num=9).tolist(),\n",
    "               'degree': [1],\n",
    "               'gamma': ['scale','auto']\n",
    "              }]\n",
    "\n",
    "svc_clf = SVC(tol=0.0001, random_state=42)\n",
    "\n",
    "grid_search_svc = GridSearchCV(svc_clf, param_grid, scoring='roc_auc', cv=None)\n",
    "\n",
    "grid_search_svc.fit(X_train_prep, y_train)"
   ]
  },
  {
   "cell_type": "code",
   "execution_count": null,
   "id": "5f3c2d7f",
   "metadata": {},
   "outputs": [],
   "source": [
    "grid_search_svc.best_params_"
   ]
  },
  {
   "cell_type": "code",
   "execution_count": null,
   "id": "412d1077",
   "metadata": {},
   "outputs": [],
   "source": [
    "grid_search_svc.best_score_"
   ]
  },
  {
   "cell_type": "code",
   "execution_count": null,
   "id": "810f18e5",
   "metadata": {},
   "outputs": [],
   "source": []
  }
 ],
 "metadata": {
  "kernelspec": {
   "display_name": "Python 3 (ipykernel)",
   "language": "python",
   "name": "python3"
  },
  "language_info": {
   "codemirror_mode": {
    "name": "ipython",
    "version": 3
   },
   "file_extension": ".py",
   "mimetype": "text/x-python",
   "name": "python",
   "nbconvert_exporter": "python",
   "pygments_lexer": "ipython3",
   "version": "3.9.12"
  }
 },
 "nbformat": 4,
 "nbformat_minor": 5
}
