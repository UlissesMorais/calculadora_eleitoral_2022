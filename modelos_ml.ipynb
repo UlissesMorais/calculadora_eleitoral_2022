{
 "cells": [
  {
   "cell_type": "markdown",
   "id": "bc9a8805",
   "metadata": {},
   "source": [
    "## Libraries"
   ]
  },
  {
   "cell_type": "code",
   "execution_count": 1,
   "id": "62e48833",
   "metadata": {},
   "outputs": [],
   "source": [
    "import pandas as pd\n",
    "import numpy as np\n",
    "import os\n",
    "import joblib\n",
    "import matplotlib.pyplot as plt\n",
    "\n",
    "from xgboost import XGBClassifier\n",
    "\n",
    "from sklearn.compose import ColumnTransformer\n",
    "from sklearn.preprocessing import StandardScaler\n",
    "from sklearn.model_selection import StratifiedShuffleSplit, cross_val_score, cross_val_predict, GridSearchCV\n",
    "from sklearn.linear_model import SGDClassifier, LogisticRegression\n",
    "from sklearn.ensemble import RandomForestClassifier, VotingClassifier\n",
    "from sklearn.svm import SVC\n",
    "from sklearn.metrics import confusion_matrix, roc_auc_score, precision_score, recall_score,\\\n",
    "                            f1_score, roc_curve, precision_recall_curve, accuracy_score\n",
    "\n",
    "import tensorflow as tf\n"
   ]
  },
  {
   "cell_type": "markdown",
   "id": "cdab8ed7",
   "metadata": {},
   "source": [
    "## Importa dados"
   ]
  },
  {
   "cell_type": "code",
   "execution_count": 2,
   "id": "86bbed69",
   "metadata": {},
   "outputs": [],
   "source": [
    "# registra o diretório atual e muda para a pasta \"dataset\"\n",
    "current_dir_orig = os.getcwd()\n",
    "os.chdir(f\"{current_dir_orig}/dataset\")"
   ]
  },
  {
   "cell_type": "code",
   "execution_count": 3,
   "id": "21dcc96a",
   "metadata": {},
   "outputs": [],
   "source": [
    "depfed_dataset_df = pd.read_csv(r'./depfed_dataset.csv')\n",
    "\n",
    "# change to original directory\n",
    "os.chdir(current_dir_orig)"
   ]
  },
  {
   "cell_type": "code",
   "execution_count": 4,
   "id": "431b0f4c",
   "metadata": {
    "scrolled": true
   },
   "outputs": [
    {
     "data": {
      "text/html": [
       "<div>\n",
       "<style scoped>\n",
       "    .dataframe tbody tr th:only-of-type {\n",
       "        vertical-align: middle;\n",
       "    }\n",
       "\n",
       "    .dataframe tbody tr th {\n",
       "        vertical-align: top;\n",
       "    }\n",
       "\n",
       "    .dataframe thead th {\n",
       "        text-align: right;\n",
       "    }\n",
       "</style>\n",
       "<table border=\"1\" class=\"dataframe\">\n",
       "  <thead>\n",
       "    <tr style=\"text-align: right;\">\n",
       "      <th></th>\n",
       "      <th>SQ_CANDIDATO</th>\n",
       "      <th>NM_CANDIDATO</th>\n",
       "      <th>NR_IDADE_DATA_POSSE</th>\n",
       "      <th>REELEICAO</th>\n",
       "      <th>ST_ELEITORAL</th>\n",
       "      <th>COR_RACA_AMARELA</th>\n",
       "      <th>COR_RACA_BRANCA</th>\n",
       "      <th>COR_RACA_INDIGENA</th>\n",
       "      <th>COR_RACA_NAO_INFORMADO</th>\n",
       "      <th>COR_RACA_PARDA</th>\n",
       "      <th>...</th>\n",
       "      <th>RAZAO_CAND_VAGA_UE</th>\n",
       "      <th>RAZAO_CANDPART_VAGAS_UE</th>\n",
       "      <th>PART_PRES_POS</th>\n",
       "      <th>INSTA_FLW</th>\n",
       "      <th>TK_FLW</th>\n",
       "      <th>TK_LIKE</th>\n",
       "      <th>FB_FLW</th>\n",
       "      <th>TWT_FLW</th>\n",
       "      <th>QT_VAGAS_UE</th>\n",
       "      <th>QUOCIENTE_ELEITORAL_UE</th>\n",
       "    </tr>\n",
       "  </thead>\n",
       "  <tbody>\n",
       "    <tr>\n",
       "      <th>0</th>\n",
       "      <td>70001650385</td>\n",
       "      <td>CELY LANGAMER MUNIZ</td>\n",
       "      <td>51</td>\n",
       "      <td>0.0</td>\n",
       "      <td>0.0</td>\n",
       "      <td>0.0</td>\n",
       "      <td>1.0</td>\n",
       "      <td>0.0</td>\n",
       "      <td>0.0</td>\n",
       "      <td>0.0</td>\n",
       "      <td>...</td>\n",
       "      <td>25.750000</td>\n",
       "      <td>1.125000</td>\n",
       "      <td>0.00</td>\n",
       "      <td>716</td>\n",
       "      <td>0</td>\n",
       "      <td>0</td>\n",
       "      <td>716</td>\n",
       "      <td>0</td>\n",
       "      <td>8.0</td>\n",
       "      <td>200940.0</td>\n",
       "    </tr>\n",
       "    <tr>\n",
       "      <th>1</th>\n",
       "      <td>170001618619</td>\n",
       "      <td>MARCOS BEZERRA CAMPELO</td>\n",
       "      <td>55</td>\n",
       "      <td>0.0</td>\n",
       "      <td>0.0</td>\n",
       "      <td>0.0</td>\n",
       "      <td>0.0</td>\n",
       "      <td>0.0</td>\n",
       "      <td>0.0</td>\n",
       "      <td>1.0</td>\n",
       "      <td>...</td>\n",
       "      <td>17.320000</td>\n",
       "      <td>0.840000</td>\n",
       "      <td>0.00</td>\n",
       "      <td>671</td>\n",
       "      <td>0</td>\n",
       "      <td>0</td>\n",
       "      <td>671</td>\n",
       "      <td>0</td>\n",
       "      <td>25.0</td>\n",
       "      <td>198795.0</td>\n",
       "    </tr>\n",
       "    <tr>\n",
       "      <th>2</th>\n",
       "      <td>220001605554</td>\n",
       "      <td>MARY TERESINHA BRAGANHOL</td>\n",
       "      <td>58</td>\n",
       "      <td>0.0</td>\n",
       "      <td>0.0</td>\n",
       "      <td>0.0</td>\n",
       "      <td>1.0</td>\n",
       "      <td>0.0</td>\n",
       "      <td>0.0</td>\n",
       "      <td>0.0</td>\n",
       "      <td>...</td>\n",
       "      <td>19.250000</td>\n",
       "      <td>1.125000</td>\n",
       "      <td>0.02</td>\n",
       "      <td>2635</td>\n",
       "      <td>0</td>\n",
       "      <td>0</td>\n",
       "      <td>2635</td>\n",
       "      <td>0</td>\n",
       "      <td>8.0</td>\n",
       "      <td>108643.0</td>\n",
       "    </tr>\n",
       "    <tr>\n",
       "      <th>3</th>\n",
       "      <td>190001609675</td>\n",
       "      <td>FERNANDO DA SILVA FERNANDES</td>\n",
       "      <td>68</td>\n",
       "      <td>0.0</td>\n",
       "      <td>0.0</td>\n",
       "      <td>0.0</td>\n",
       "      <td>0.0</td>\n",
       "      <td>0.0</td>\n",
       "      <td>0.0</td>\n",
       "      <td>1.0</td>\n",
       "      <td>...</td>\n",
       "      <td>22.891304</td>\n",
       "      <td>1.021739</td>\n",
       "      <td>0.00</td>\n",
       "      <td>1575</td>\n",
       "      <td>0</td>\n",
       "      <td>0</td>\n",
       "      <td>1575</td>\n",
       "      <td>0</td>\n",
       "      <td>46.0</td>\n",
       "      <td>186435.0</td>\n",
       "    </tr>\n",
       "    <tr>\n",
       "      <th>4</th>\n",
       "      <td>130001612965</td>\n",
       "      <td>RAFAEL CANDIDO</td>\n",
       "      <td>32</td>\n",
       "      <td>0.0</td>\n",
       "      <td>0.0</td>\n",
       "      <td>0.0</td>\n",
       "      <td>1.0</td>\n",
       "      <td>0.0</td>\n",
       "      <td>0.0</td>\n",
       "      <td>0.0</td>\n",
       "      <td>...</td>\n",
       "      <td>19.962264</td>\n",
       "      <td>0.679245</td>\n",
       "      <td>0.00</td>\n",
       "      <td>198</td>\n",
       "      <td>0</td>\n",
       "      <td>0</td>\n",
       "      <td>198</td>\n",
       "      <td>0</td>\n",
       "      <td>53.0</td>\n",
       "      <td>210964.0</td>\n",
       "    </tr>\n",
       "  </tbody>\n",
       "</table>\n",
       "<p>5 rows × 25 columns</p>\n",
       "</div>"
      ],
      "text/plain": [
       "   SQ_CANDIDATO                 NM_CANDIDATO  NR_IDADE_DATA_POSSE  REELEICAO  \\\n",
       "0   70001650385          CELY LANGAMER MUNIZ                   51        0.0   \n",
       "1  170001618619       MARCOS BEZERRA CAMPELO                   55        0.0   \n",
       "2  220001605554     MARY TERESINHA BRAGANHOL                   58        0.0   \n",
       "3  190001609675  FERNANDO DA SILVA FERNANDES                   68        0.0   \n",
       "4  130001612965               RAFAEL CANDIDO                   32        0.0   \n",
       "\n",
       "   ST_ELEITORAL  COR_RACA_AMARELA  COR_RACA_BRANCA  COR_RACA_INDIGENA  \\\n",
       "0           0.0               0.0              1.0                0.0   \n",
       "1           0.0               0.0              0.0                0.0   \n",
       "2           0.0               0.0              1.0                0.0   \n",
       "3           0.0               0.0              0.0                0.0   \n",
       "4           0.0               0.0              1.0                0.0   \n",
       "\n",
       "   COR_RACA_NAO_INFORMADO  COR_RACA_PARDA  ...  RAZAO_CAND_VAGA_UE  \\\n",
       "0                     0.0             0.0  ...           25.750000   \n",
       "1                     0.0             1.0  ...           17.320000   \n",
       "2                     0.0             0.0  ...           19.250000   \n",
       "3                     0.0             1.0  ...           22.891304   \n",
       "4                     0.0             0.0  ...           19.962264   \n",
       "\n",
       "   RAZAO_CANDPART_VAGAS_UE  PART_PRES_POS  INSTA_FLW  TK_FLW  TK_LIKE  FB_FLW  \\\n",
       "0                 1.125000           0.00        716       0        0     716   \n",
       "1                 0.840000           0.00        671       0        0     671   \n",
       "2                 1.125000           0.02       2635       0        0    2635   \n",
       "3                 1.021739           0.00       1575       0        0    1575   \n",
       "4                 0.679245           0.00        198       0        0     198   \n",
       "\n",
       "   TWT_FLW  QT_VAGAS_UE  QUOCIENTE_ELEITORAL_UE  \n",
       "0        0          8.0                200940.0  \n",
       "1        0         25.0                198795.0  \n",
       "2        0          8.0                108643.0  \n",
       "3        0         46.0                186435.0  \n",
       "4        0         53.0                210964.0  \n",
       "\n",
       "[5 rows x 25 columns]"
      ]
     },
     "execution_count": 4,
     "metadata": {},
     "output_type": "execute_result"
    }
   ],
   "source": [
    "depfed_dataset_df.head()"
   ]
  },
  {
   "cell_type": "markdown",
   "id": "07077107",
   "metadata": {},
   "source": [
    "### Separa dataset em treinamento e teste"
   ]
  },
  {
   "cell_type": "code",
   "execution_count": 5,
   "id": "d9922b0b",
   "metadata": {},
   "outputs": [],
   "source": [
    "# separa o dataset inicial em treinamento e teste, estratificado pelo resultado eleitoral\n",
    "split = StratifiedShuffleSplit(n_splits=1, test_size=0.2, random_state=42)\n",
    "for train_index, test_index in split.split(depfed_dataset_df, depfed_dataset_df[\"ST_ELEITORAL\"]):\n",
    "    \n",
    "    strat_train_set = depfed_dataset_df.loc[train_index]\n",
    "    strat_test_set = depfed_dataset_df.loc[test_index]\n",
    "\n",
    "# strat_test_set[\"ST_ELEITORAL\"].value_counts()/len(strat_test_set)\n",
    "depfed_train_df =  strat_train_set.copy().reset_index(drop=True)\n",
    "depfed_test_df =  strat_test_set.copy().reset_index(drop=True)"
   ]
  },
  {
   "cell_type": "markdown",
   "id": "75957fb6",
   "metadata": {},
   "source": [
    "### Buscando correlações"
   ]
  },
  {
   "cell_type": "code",
   "execution_count": 6,
   "id": "62c9508d",
   "metadata": {},
   "outputs": [
    {
     "data": {
      "text/plain": [
       "ST_ELEITORAL               1.000000\n",
       "REELEICAO                  0.564909\n",
       "FUNDO ESPECIAL             0.519590\n",
       "OUTROS RECURSOS            0.424164\n",
       "INSTA_FLW                  0.252655\n",
       "TWT_FLW                    0.240951\n",
       "FB_FLW                     0.227770\n",
       "PART_PRES_POS              0.202970\n",
       "FUNDO PARTIDARIO           0.167828\n",
       "TK_LIKE                    0.136524\n",
       "COR_RACA_BRANCA            0.108574\n",
       "GENERO                     0.092426\n",
       "TK_FLW                     0.083912\n",
       "RAZAO_CANDPART_VAGAS_UE    0.034827\n",
       "NR_IDADE_DATA_POSSE        0.014954\n",
       "COR_RACA_INDIGENA          0.014443\n",
       "COR_RACA_AMARELA           0.011531\n",
       "QUOCIENTE_ELEITORAL_UE     0.001116\n",
       "QT_VAGAS_UE               -0.001454\n",
       "SQ_CANDIDATO              -0.002101\n",
       "COR_RACA_NAO_INFORMADO    -0.011036\n",
       "RAZAO_CAND_VAGA_UE        -0.019594\n",
       "COR_RACA_PRETA            -0.063821\n",
       "COR_RACA_PARDA            -0.069562\n",
       "Name: ST_ELEITORAL, dtype: float64"
      ]
     },
     "execution_count": 6,
     "metadata": {},
     "output_type": "execute_result"
    }
   ],
   "source": [
    "# Matriz de correlações\n",
    "corr_matrix = depfed_train_df.corr()\n",
    "\n",
    "corr_matrix[\"ST_ELEITORAL\"].sort_values(ascending=False)"
   ]
  },
  {
   "cell_type": "code",
   "execution_count": 7,
   "id": "7ec3bb48",
   "metadata": {},
   "outputs": [
    {
     "data": {
      "text/plain": [
       "ST_ELEITORAL               1.000000\n",
       "RECEITA_TOTAL              0.576699\n",
       "REELEICAO                  0.564909\n",
       "FUNDO ESPECIAL             0.519590\n",
       "OUTROS RECURSOS            0.424164\n",
       "FLW_TOTAL                  0.257308\n",
       "INSTA_FLW                  0.252655\n",
       "TWT_FLW                    0.240951\n",
       "FB_FLW                     0.227770\n",
       "PART_PRES_POS              0.202970\n",
       "FUNDO PARTIDARIO           0.167828\n",
       "TK_LIKE                    0.136524\n",
       "COR_RACA_BRANCA            0.108574\n",
       "GENERO                     0.092426\n",
       "TK_FLW                     0.083912\n",
       "RAZAO_CANDPART_VAGAS_UE    0.034827\n",
       "NR_IDADE_DATA_POSSE        0.014954\n",
       "COR_RACA_INDIGENA          0.014443\n",
       "COR_RACA_AMARELA           0.011531\n",
       "QUOCIENTE_ELEITORAL_UE     0.001116\n",
       "QT_VAGAS_UE               -0.001454\n",
       "SQ_CANDIDATO              -0.002101\n",
       "COR_RACA_NAO_INFORMADO    -0.011036\n",
       "RAZAO_CAND_VAGA_UE        -0.019594\n",
       "COR_RACA_PRETA            -0.063821\n",
       "COR_RACA_PARDA            -0.069562\n",
       "Name: ST_ELEITORAL, dtype: float64"
      ]
     },
     "execution_count": 7,
     "metadata": {},
     "output_type": "execute_result"
    }
   ],
   "source": [
    "# testando combinações de atributos\n",
    "depfed_train_df[\"RECEITA_TOTAL\"] = depfed_train_df[\"FUNDO ESPECIAL\"] + depfed_train_df[\"OUTROS RECURSOS\"] + \\\n",
    "                                    depfed_train_df[\"FUNDO PARTIDARIO\"]\n",
    "\n",
    "depfed_train_df[\"FLW_TOTAL\"] = depfed_train_df[\"INSTA_FLW\"] + depfed_train_df[\"TWT_FLW\"] + \\\n",
    "                                depfed_train_df[\"FB_FLW\"] + depfed_train_df[\"TK_FLW\"]\n",
    "\n",
    "corr_matrix = depfed_train_df.corr()\n",
    "\n",
    "corr_matrix[\"ST_ELEITORAL\"].sort_values(ascending=False)"
   ]
  },
  {
   "cell_type": "code",
   "execution_count": 8,
   "id": "45961bbc",
   "metadata": {},
   "outputs": [
    {
     "data": {
      "text/plain": [
       "<AxesSubplot:xlabel='RECEITA_TOTAL', ylabel='ST_ELEITORAL'>"
      ]
     },
     "execution_count": 8,
     "metadata": {},
     "output_type": "execute_result"
    },
    {
     "data": {
      "image/png": "[encoded data removed]",
      "text/plain": [
       "<Figure size 864x360 with 1 Axes>"
      ]
     },
     "metadata": {
      "needs_background": "light"
     },
     "output_type": "display_data"
    }
   ],
   "source": [
    "depfed_train_df.plot(kind=\"scatter\", x=\"RECEITA_TOTAL\", y=\"ST_ELEITORAL\", alpha=0.1, figsize=(12,5))"
   ]
  },
  {
   "cell_type": "markdown",
   "id": "7865f616",
   "metadata": {},
   "source": [
    "#### Desempenho\n",
    "\n",
    "Como estamos manipulando **dados assimétricos**, uma vez que a proporção de candidatos eleitos é bem menor do que não eleitos, é normal a acurácia ser bem alta. Para avaliarmos melhor as previsões, usaremos métodos mais robustos."
   ]
  },
  {
   "cell_type": "code",
   "execution_count": 9,
   "id": "c46a5ecf",
   "metadata": {},
   "outputs": [
    {
     "data": {
      "text/plain": [
       "0.0    0.948596\n",
       "1.0    0.051404\n",
       "Name: ST_ELEITORAL, dtype: float64"
      ]
     },
     "execution_count": 9,
     "metadata": {},
     "output_type": "execute_result"
    }
   ],
   "source": [
    "# proporção de eleitos (1) e não eleitos (0) no conjunto de treinamento\n",
    "depfed_train_df[\"ST_ELEITORAL\"].value_counts()/len(depfed_train_df)"
   ]
  },
  {
   "cell_type": "code",
   "execution_count": 10,
   "id": "709e44b9",
   "metadata": {},
   "outputs": [
    {
     "data": {
      "text/html": [
       "<div>\n",
       "<style scoped>\n",
       "    .dataframe tbody tr th:only-of-type {\n",
       "        vertical-align: middle;\n",
       "    }\n",
       "\n",
       "    .dataframe tbody tr th {\n",
       "        vertical-align: top;\n",
       "    }\n",
       "\n",
       "    .dataframe thead th {\n",
       "        text-align: right;\n",
       "    }\n",
       "</style>\n",
       "<table border=\"1\" class=\"dataframe\">\n",
       "  <thead>\n",
       "    <tr style=\"text-align: right;\">\n",
       "      <th></th>\n",
       "      <th>NR_IDADE_DATA_POSSE</th>\n",
       "      <th>REELEICAO</th>\n",
       "      <th>COR_RACA_AMARELA</th>\n",
       "      <th>COR_RACA_BRANCA</th>\n",
       "      <th>COR_RACA_INDIGENA</th>\n",
       "      <th>COR_RACA_NAO_INFORMADO</th>\n",
       "      <th>COR_RACA_PARDA</th>\n",
       "      <th>COR_RACA_PRETA</th>\n",
       "      <th>GENERO</th>\n",
       "      <th>FUNDO ESPECIAL</th>\n",
       "      <th>...</th>\n",
       "      <th>PART_PRES_POS</th>\n",
       "      <th>INSTA_FLW</th>\n",
       "      <th>TK_FLW</th>\n",
       "      <th>TK_LIKE</th>\n",
       "      <th>FB_FLW</th>\n",
       "      <th>TWT_FLW</th>\n",
       "      <th>QT_VAGAS_UE</th>\n",
       "      <th>QUOCIENTE_ELEITORAL_UE</th>\n",
       "      <th>RECEITA_TOTAL</th>\n",
       "      <th>FLW_TOTAL</th>\n",
       "    </tr>\n",
       "  </thead>\n",
       "  <tbody>\n",
       "    <tr>\n",
       "      <th>0</th>\n",
       "      <td>65</td>\n",
       "      <td>0.0</td>\n",
       "      <td>0.0</td>\n",
       "      <td>1.0</td>\n",
       "      <td>0.0</td>\n",
       "      <td>0.0</td>\n",
       "      <td>0.0</td>\n",
       "      <td>0.0</td>\n",
       "      <td>1.0</td>\n",
       "      <td>10256.41</td>\n",
       "      <td>...</td>\n",
       "      <td>0.00</td>\n",
       "      <td>1176</td>\n",
       "      <td>0</td>\n",
       "      <td>0</td>\n",
       "      <td>1176</td>\n",
       "      <td>0</td>\n",
       "      <td>70.0</td>\n",
       "      <td>332736.0</td>\n",
       "      <td>41006.41</td>\n",
       "      <td>2352</td>\n",
       "    </tr>\n",
       "    <tr>\n",
       "      <th>1</th>\n",
       "      <td>60</td>\n",
       "      <td>0.0</td>\n",
       "      <td>0.0</td>\n",
       "      <td>1.0</td>\n",
       "      <td>0.0</td>\n",
       "      <td>0.0</td>\n",
       "      <td>0.0</td>\n",
       "      <td>0.0</td>\n",
       "      <td>0.0</td>\n",
       "      <td>40000.00</td>\n",
       "      <td>...</td>\n",
       "      <td>0.00</td>\n",
       "      <td>152</td>\n",
       "      <td>0</td>\n",
       "      <td>0</td>\n",
       "      <td>152</td>\n",
       "      <td>0</td>\n",
       "      <td>46.0</td>\n",
       "      <td>186435.0</td>\n",
       "      <td>40000.00</td>\n",
       "      <td>304</td>\n",
       "    </tr>\n",
       "    <tr>\n",
       "      <th>2</th>\n",
       "      <td>43</td>\n",
       "      <td>0.0</td>\n",
       "      <td>0.0</td>\n",
       "      <td>0.0</td>\n",
       "      <td>0.0</td>\n",
       "      <td>0.0</td>\n",
       "      <td>0.0</td>\n",
       "      <td>1.0</td>\n",
       "      <td>0.0</td>\n",
       "      <td>30000.00</td>\n",
       "      <td>...</td>\n",
       "      <td>0.02</td>\n",
       "      <td>241</td>\n",
       "      <td>0</td>\n",
       "      <td>0</td>\n",
       "      <td>241</td>\n",
       "      <td>0</td>\n",
       "      <td>53.0</td>\n",
       "      <td>210964.0</td>\n",
       "      <td>36060.60</td>\n",
       "      <td>482</td>\n",
       "    </tr>\n",
       "    <tr>\n",
       "      <th>3</th>\n",
       "      <td>42</td>\n",
       "      <td>0.0</td>\n",
       "      <td>0.0</td>\n",
       "      <td>0.0</td>\n",
       "      <td>0.0</td>\n",
       "      <td>0.0</td>\n",
       "      <td>1.0</td>\n",
       "      <td>0.0</td>\n",
       "      <td>0.0</td>\n",
       "      <td>10000.00</td>\n",
       "      <td>...</td>\n",
       "      <td>0.00</td>\n",
       "      <td>67</td>\n",
       "      <td>0</td>\n",
       "      <td>0</td>\n",
       "      <td>67</td>\n",
       "      <td>0</td>\n",
       "      <td>39.0</td>\n",
       "      <td>204062.0</td>\n",
       "      <td>10000.00</td>\n",
       "      <td>134</td>\n",
       "    </tr>\n",
       "    <tr>\n",
       "      <th>4</th>\n",
       "      <td>52</td>\n",
       "      <td>0.0</td>\n",
       "      <td>0.0</td>\n",
       "      <td>1.0</td>\n",
       "      <td>0.0</td>\n",
       "      <td>0.0</td>\n",
       "      <td>0.0</td>\n",
       "      <td>0.0</td>\n",
       "      <td>0.0</td>\n",
       "      <td>0.00</td>\n",
       "      <td>...</td>\n",
       "      <td>0.40</td>\n",
       "      <td>3189</td>\n",
       "      <td>0</td>\n",
       "      <td>0</td>\n",
       "      <td>3189</td>\n",
       "      <td>0</td>\n",
       "      <td>8.0</td>\n",
       "      <td>169608.0</td>\n",
       "      <td>150325.53</td>\n",
       "      <td>6378</td>\n",
       "    </tr>\n",
       "  </tbody>\n",
       "</table>\n",
       "<p>5 rows × 24 columns</p>\n",
       "</div>"
      ],
      "text/plain": [
       "   NR_IDADE_DATA_POSSE  REELEICAO  COR_RACA_AMARELA  COR_RACA_BRANCA  \\\n",
       "0                   65        0.0               0.0              1.0   \n",
       "1                   60        0.0               0.0              1.0   \n",
       "2                   43        0.0               0.0              0.0   \n",
       "3                   42        0.0               0.0              0.0   \n",
       "4                   52        0.0               0.0              1.0   \n",
       "\n",
       "   COR_RACA_INDIGENA  COR_RACA_NAO_INFORMADO  COR_RACA_PARDA  COR_RACA_PRETA  \\\n",
       "0                0.0                     0.0             0.0             0.0   \n",
       "1                0.0                     0.0             0.0             0.0   \n",
       "2                0.0                     0.0             0.0             1.0   \n",
       "3                0.0                     0.0             1.0             0.0   \n",
       "4                0.0                     0.0             0.0             0.0   \n",
       "\n",
       "   GENERO  FUNDO ESPECIAL  ...  PART_PRES_POS  INSTA_FLW  TK_FLW  TK_LIKE  \\\n",
       "0     1.0        10256.41  ...           0.00       1176       0        0   \n",
       "1     0.0        40000.00  ...           0.00        152       0        0   \n",
       "2     0.0        30000.00  ...           0.02        241       0        0   \n",
       "3     0.0        10000.00  ...           0.00         67       0        0   \n",
       "4     0.0            0.00  ...           0.40       3189       0        0   \n",
       "\n",
       "   FB_FLW  TWT_FLW  QT_VAGAS_UE  QUOCIENTE_ELEITORAL_UE  RECEITA_TOTAL  \\\n",
       "0    1176        0         70.0                332736.0       41006.41   \n",
       "1     152        0         46.0                186435.0       40000.00   \n",
       "2     241        0         53.0                210964.0       36060.60   \n",
       "3      67        0         39.0                204062.0       10000.00   \n",
       "4    3189        0          8.0                169608.0      150325.53   \n",
       "\n",
       "   FLW_TOTAL  \n",
       "0       2352  \n",
       "1        304  \n",
       "2        482  \n",
       "3        134  \n",
       "4       6378  \n",
       "\n",
       "[5 rows x 24 columns]"
      ]
     },
     "execution_count": 10,
     "metadata": {},
     "output_type": "execute_result"
    }
   ],
   "source": [
    "# guarda os targets em st_eleitoral\n",
    "y_train = depfed_train_df[\"ST_ELEITORAL\"].values\n",
    "\n",
    "depfed_dataset = depfed_train_df.drop(['SQ_CANDIDATO','NM_CANDIDATO','ST_ELEITORAL'], axis=1, inplace=False)\n",
    "depfed_dataset.head()"
   ]
  },
  {
   "cell_type": "markdown",
   "id": "2b33c1d5",
   "metadata": {},
   "source": [
    "### Scaling"
   ]
  },
  {
   "cell_type": "code",
   "execution_count": 11,
   "id": "20b6f0d2",
   "metadata": {},
   "outputs": [],
   "source": [
    "# pipeline de transformação. As colunas do dataset saem trocadas de acodo com o ColumnTransformer\n",
    "\n",
    "num_columns = [\"NR_IDADE_DATA_POSSE\",\n",
    "               \"FUNDO ESPECIAL\",\n",
    "               \"OUTROS RECURSOS\",\n",
    "               \"FUNDO PARTIDARIO\",\n",
    "               \"RAZAO_CAND_VAGA_UE\",\n",
    "               \"RAZAO_CANDPART_VAGAS_UE\",\n",
    "               \"PART_PRES_POS\",\n",
    "               \"INSTA_FLW\",\n",
    "               \"TK_FLW\",\n",
    "               \"TK_LIKE\",\n",
    "               \"FB_FLW\",\n",
    "               \"TWT_FLW\",\n",
    "               \"QT_VAGAS_UE\",\n",
    "               \"QUOCIENTE_ELEITORAL_UE\",\n",
    "               \"RECEITA_TOTAL\",\n",
    "               \"FLW_TOTAL\"\n",
    "              ]\n",
    "\n",
    "full_pipeline = ColumnTransformer([(\"num\", StandardScaler(), num_columns)], remainder='passthrough')\n",
    "\n",
    "X_train_prep = full_pipeline.fit_transform(depfed_dataset)\n",
    "\n",
    "# full_pipeline.get_feature_names_out(depfed_dataset.columns)"
   ]
  },
  {
   "cell_type": "markdown",
   "id": "7d508e49",
   "metadata": {},
   "source": [
    "### 1° Classificador - SGD Classifier"
   ]
  },
  {
   "cell_type": "code",
   "execution_count": 12,
   "id": "cfc689ba",
   "metadata": {},
   "outputs": [
    {
     "data": {
      "text/plain": [
       "SGDClassifier(alpha=0.01, l1_ratio=0.6, penalty='elasticnet', random_state=42)"
      ]
     },
     "execution_count": 12,
     "metadata": {},
     "output_type": "execute_result"
    }
   ],
   "source": [
    "# treina SGDClassifier()\n",
    "sgd_clf = SGDClassifier(loss='hinge', penalty='elasticnet', alpha=0.01, l1_ratio=0.6, random_state=42)\n",
    "sgd_clf.fit(X_train_prep, y_train)\n"
   ]
  },
  {
   "cell_type": "code",
   "execution_count": 13,
   "id": "28de7caa",
   "metadata": {},
   "outputs": [],
   "source": [
    "def plot_roc_curve(fpr, tpr, label=None):\n",
    "    plt.plot(fpr, tpr, linewidth=2, label=label)\n",
    "    plt.plot([0,1], [0,1], 'k--')\n",
    "    plt.grid()\n",
    "    plt.ylim([0, 1.0])\n",
    "    plt.xlim([0, 1.0])\n",
    "    plt.ylabel('Taxa de Verdadeiro Positivo (Recall)')\n",
    "    plt.xlabel('Taxa de Falso Positivo')\n",
    "\n",
    "# retorna o score de cada instância de treinamento\n",
    "y_scores_sgd = cross_val_predict(sgd_clf, X_train_prep, y_train, cv=5, method=\"decision_function\")\n",
    "\n",
    "fpr, tpr, thresholds = roc_curve(y_train, y_scores_sgd)\n",
    "\n",
    "# curva de precisão vs revocação\n",
    "precisions_sgd, recalls_sgd, thresholds_sgd = precision_recall_curve(y_train, y_scores_sgd)\n"
   ]
  },
  {
   "cell_type": "markdown",
   "id": "23affe8e",
   "metadata": {},
   "source": [
    "### 2° Classificador - Random Forest"
   ]
  },
  {
   "cell_type": "code",
   "execution_count": 14,
   "id": "2fad7837",
   "metadata": {},
   "outputs": [
    {
     "data": {
      "text/plain": [
       "RandomForestClassifier(min_samples_leaf=3, n_estimators=300, random_state=42)"
      ]
     },
     "execution_count": 14,
     "metadata": {},
     "output_type": "execute_result"
    }
   ],
   "source": [
    "# treina RandomForestClassifier()\n",
    "forest_clf = RandomForestClassifier(n_estimators=300, min_samples_leaf=3, bootstrap=True, random_state=42)\n",
    "forest_clf.fit(X_train_prep, y_train)\n"
   ]
  },
  {
   "cell_type": "code",
   "execution_count": 15,
   "id": "6284789f",
   "metadata": {},
   "outputs": [],
   "source": [
    "# retorna a probabilidade de cada instância de treinamento\n",
    "y_probas_forest = cross_val_predict(forest_clf, X_train_prep, y_train, cv=5, method=\"predict_proba\")\n",
    "\n",
    "# seleciona os scores positivos\n",
    "y_scores_forest = y_probas_forest[:, 1]\n",
    "\n",
    "fpr_forest, tpr_forest, thresholds_forest = roc_curve(y_train, y_scores_forest)\n",
    "\n",
    "# curva de precisão vs revocação\n",
    "precisions_forest, recalls_forest, thresholds_forest = precision_recall_curve(y_train, y_scores_forest)\n"
   ]
  },
  {
   "cell_type": "markdown",
   "id": "cce31ab9",
   "metadata": {},
   "source": [
    "### 3° Classificador - Logistic Regression"
   ]
  },
  {
   "cell_type": "code",
   "execution_count": 16,
   "id": "9cf9886f",
   "metadata": {},
   "outputs": [
    {
     "data": {
      "text/plain": [
       "LogisticRegression(C=0.1, max_iter=10000, penalty='l1', random_state=42,\n",
       "                   solver='liblinear')"
      ]
     },
     "execution_count": 16,
     "metadata": {},
     "output_type": "execute_result"
    }
   ],
   "source": [
    "# treina LogisticRegressionCV()\n",
    "logreg_clf = LogisticRegression(C=0.1, penalty='l1', solver='liblinear', random_state=42, max_iter=10000)\n",
    "logreg_clf.fit(X_train_prep, y_train)\n"
   ]
  },
  {
   "cell_type": "code",
   "execution_count": 17,
   "id": "ec9404b3",
   "metadata": {},
   "outputs": [],
   "source": [
    "# retorna a probabilidade de cada instância de treinamento\n",
    "y_probas_logreg = cross_val_predict(logreg_clf, X_train_prep, y_train, cv=5, method=\"predict_proba\")\n",
    "\n",
    "# seleciona os scores positivos\n",
    "y_scores_logreg = y_probas_logreg[:, 1]\n",
    "\n",
    "fpr_logreg, tpr_logreg, thresholds_logreg = roc_curve(y_train, y_scores_logreg)\n",
    "\n",
    "# curva de precisão vs revocação\n",
    "precisions_logreg, recalls_logreg, thresholds_logreg = precision_recall_curve(y_train, y_scores_logreg)\n"
   ]
  },
  {
   "cell_type": "markdown",
   "id": "39e2ea40",
   "metadata": {},
   "source": [
    "### 4° Classificador - SVM"
   ]
  },
  {
   "cell_type": "code",
   "execution_count": 18,
   "id": "c628bf00",
   "metadata": {},
   "outputs": [
    {
     "data": {
      "text/plain": [
       "SVC(C=0.001, kernel='linear', probability=True, random_state=42, tol=0.0001)"
      ]
     },
     "execution_count": 18,
     "metadata": {},
     "output_type": "execute_result"
    }
   ],
   "source": [
    "# treina SVC()\n",
    "svc_clf = SVC(C=0.001, kernel='linear', degree=3, probability=True, gamma='scale', tol=0.0001, random_state=42)\n",
    "svc_clf.fit(X_train_prep, y_train)\n"
   ]
  },
  {
   "cell_type": "code",
   "execution_count": 19,
   "id": "a1377fb1",
   "metadata": {},
   "outputs": [],
   "source": [
    "# retorna o score de cada instância de treinamento\n",
    "y_scores_svc = cross_val_predict(svc_clf, X_train_prep, y_train, cv=5, method=\"decision_function\")\n",
    "\n",
    "fpr_svc, tpr_svc, thresholds_svc = roc_curve(y_train, y_scores_svc)\n",
    "\n",
    "# curva de precisão vs revocação\n",
    "precisions_svc, recalls_svc, thresholds_svc = precision_recall_curve(y_train, y_scores_svc)\n"
   ]
  },
  {
   "cell_type": "markdown",
   "id": "644feb3d",
   "metadata": {},
   "source": [
    "### 5° Classificador - XGBoost"
   ]
  },
  {
   "cell_type": "code",
   "execution_count": 20,
   "id": "d73727b0",
   "metadata": {},
   "outputs": [
    {
     "data": {
      "text/plain": [
       "XGBClassifier(base_score=0.5, booster='gbtree', callbacks=None,\n",
       "              colsample_bylevel=1, colsample_bynode=0.75, colsample_bytree=0.5,\n",
       "              early_stopping_rounds=None, enable_categorical=False,\n",
       "              eval_metric=None, feature_types=None, gamma=0, gpu_id=-1,\n",
       "              grow_policy='depthwise', importance_type=None,\n",
       "              interaction_constraints='', learning_rate=0.095, max_bin=256,\n",
       "              max_cat_threshold=64, max_cat_to_onehot=4, max_delta_step=0,\n",
       "              max_depth=3, max_leaves=0, min_child_weight=0.75, missing=nan,\n",
       "              monotone_constraints='()', n_estimators=130, n_jobs=0,\n",
       "              num_parallel_tree=1, predictor='auto', random_state=42, ...)"
      ]
     },
     "execution_count": 20,
     "metadata": {},
     "output_type": "execute_result"
    }
   ],
   "source": [
    "# classificador xgboost já tunado\n",
    "xgb_clf = XGBClassifier(learning_rate=0.095,\n",
    "                        n_estimators=130,\n",
    "                        max_depth=3,\n",
    "                        min_child_weight=0.75,\n",
    "                        subsample=0.5,\n",
    "                        colsample_bytree=0.5,\n",
    "                        colsample_bynode=0.75,\n",
    "                        random_state=42,\n",
    "                        reg_lambda=1.0,\n",
    "                        reg_alpha=1.0,\n",
    "                        scale_pos_weight=1.5,\n",
    "                        num_parallel_tree=1,\n",
    "                        booster='gbtree'\n",
    "                        )\n",
    "\n",
    "xgb_clf.fit(X_train_prep, y_train)"
   ]
  },
  {
   "cell_type": "markdown",
   "id": "5f191235",
   "metadata": {},
   "source": [
    "### Tunagem do XGBoost\n",
    "\n",
    "Primeiro otimizaram-se os parâmetros ``learning_rate``, ``n_estimators`` e ``max_depth``, obtendo-se os valores de ``auc`` abaixo, que representa a área sobre a curva ROC.\n",
    "\n",
    "| n     | learning_rate | n_estimators | max_depth | auc |\n",
    "| ----- | -----------   |-----------   | --------- | --- |\n",
    "| 77    | 0.177828      | 100          | 4         | 98.116827 |\n",
    "| 56    | 0.031623      | 250          | 3         | 98.113773 |\n",
    "| 75    | 0.177828\t    | 100          | 2         | 98.109098 |\n",
    "|86     | 0.100         | 150          | 4         | 98.145042 |\n",
    "|82     | 0.100         | 100          | 4         | 98.140849|\n",
    "|69     | 0.075         | 200          | 3         | 98.137470|\n",
    "|65     | 0.075         | 150          | 3         | 98.136500|\n",
    "|85     | 0.100         | 150          | 3         | 98.132471|\n",
    "\n",
    "Definidas os valores acima, otimizou-se os parâmetros ``min_child_weight``, ``subsample``, ``max_depth``, ``colsample_bytree`` e ``colsample_bynode``. Observa-se que os valores da área sobre a curva aumentou, sugerindo que os valores foram mais assertivos.\n",
    "\n",
    "| min_child_weight | subsample | max_depth  | colsample_bytree | colsample_bynode | auc       |\n",
    "| ---------------- |---------- | ---------- | ---------------- |----------------- | --------- |\n",
    "| 0.5              |  0.50     | 2          | 0.5              | 0.75             | 98.214357 |\n",
    "| 0.5              |  0.75     | 2          | 0.5              | 1.0              | 98.202757 |\n",
    "| 0.5              |  0.75\t   | 2          | 1.0              | 0.5              | 98.201465 |\n",
    "| 1.0              |  0.75     | 2          | 0.5              | 1.0              | 98.198083 |\n",
    "| 0.5              |  0.75     | 3          | 0.5              | 1.0              | 98.197591 |\n",
    "\n",
    "Novamente testamos para os parâmetros ``reg_lambda``, ``reg_alpha`` e ``scale_pos_weight``. Observa-se que os valores da área sobre a curva aumentou, sugerindo que os valores foram mais assertivos.\n",
    "\n",
    "| min_child_weight | subsample | max_depth  | colsample_bytree | reg_lambda      | reg_alpha | scale_pos_weight | auc  |\n",
    "| ---------------- |---------- | ---------- | ---------------- |-----------------| --------- | ---------------- | ---- |\n",
    "| 0.75             | 0.50      | 3          |  0.5             | 1.0             | 1.0       | 1.0              | 98.221603 |\n",
    "| 0.75             | 0.75      | 3          |  0.5             | 0.75            | 0.75      | 0.75             | 98.212575 |\n",
    "| 0.50             | 0.50 \t   | 3          |  0.5             | 0.50            | 0.50      | 0.50             | 98.212100 |\n",
    "| 0.35             | 0.50      | 2          |  0.5             | 0.50            | 0.50      | 0.50             | 98.211618 |\n",
    "| 0.75             | 0.50      | 2          |  0.5             | 0.75            | 0.75      | 0.75             | 98.210808 |\n"
   ]
  },
  {
   "cell_type": "code",
   "execution_count": 21,
   "id": "c1c6336f",
   "metadata": {},
   "outputs": [],
   "source": [
    "y_probas_xgb = cross_val_predict(xgb_clf, X_train_prep, y_train, cv=5, method=\"predict_proba\")\n",
    "\n",
    "# seleciona os scores positivos\n",
    "y_scores_xgb = y_probas_xgb[:, 1]\n",
    "\n",
    "fpr_xgb, tpr_xgb, thresholds_xgb = roc_curve(y_train, y_scores_xgb)\n",
    "\n",
    "# curva de precisão vs revocação\n",
    "precisions_xgb, recalls_xgb, thresholds_xgb = precision_recall_curve(y_train, y_scores_xgb)\n"
   ]
  },
  {
   "cell_type": "markdown",
   "id": "4576a0ee",
   "metadata": {},
   "source": [
    "### Gráficos"
   ]
  },
  {
   "cell_type": "code",
   "execution_count": 22,
   "id": "2b99bafc",
   "metadata": {},
   "outputs": [
    {
     "data": {
      "image/png": "[encoded data removed]",
      "text/plain": [
       "<Figure size 576x432 with 1 Axes>"
      ]
     },
     "metadata": {
      "needs_background": "light"
     },
     "output_type": "display_data"
    }
   ],
   "source": [
    "# Plot\n",
    "plt.figure(figsize=(8,6))\n",
    "plt.title(\"Curva ROC\")\n",
    "plt.plot(fpr, tpr, \"b:\", label=\"SGD\")\n",
    "plt.plot(fpr_forest, tpr_forest, \"g:\", label=\"Random Forest\")\n",
    "plt.plot(fpr_logreg, tpr_logreg, \"y:\", label=\"Logistic Regression\")\n",
    "plt.plot(fpr_svc, tpr_svc, \"r--\", label=\"SVC\")\n",
    "plot_roc_curve(fpr_xgb, tpr_xgb, label=\"Xgboost\")\n",
    "plt.legend(loc=\"lower right\")\n",
    "plt.show()"
   ]
  },
  {
   "cell_type": "code",
   "execution_count": 23,
   "id": "3b313831",
   "metadata": {},
   "outputs": [
    {
     "data": {
      "image/png": "[encoded data removed]",
      "text/plain": [
       "<Figure size 576x432 with 1 Axes>"
      ]
     },
     "metadata": {
      "needs_background": "light"
     },
     "output_type": "display_data"
    }
   ],
   "source": [
    "# Plot\n",
    "plt.figure(figsize=(8,6))\n",
    "plt.title(\"Curva Precision vs Recall\")\n",
    "plt.grid()\n",
    "\n",
    "plt.plot(recalls_sgd[100:], precisions_sgd[100:], \"k-\", label=\"SGD\")\n",
    "plt.plot(recalls_forest[200:], precisions_forest[200:], \"g-\", label=\"Random Forest\")\n",
    "plt.plot(recalls_logreg[200:], precisions_logreg[200:], \"m-\", label=\"Logistic Regression\")\n",
    "plt.plot(recalls_svc[200:], precisions_svc[200:], \"r-\", label=\"SVC\")\n",
    "plt.plot(recalls_xgb[200:], precisions_xgb[200:], \"b-\", label=\"Xgboost\")\n",
    "\n",
    "plt.ylabel(\"Precision\")\n",
    "plt.xlabel(\"Recall\")\n",
    "plt.ylim([0.0, 1.0])\n",
    "plt.xlim([0.0, 1.0])\n",
    "plt.legend(loc=\"upper right\")\n",
    "plt.show()"
   ]
  },
  {
   "cell_type": "markdown",
   "id": "b3ddc034",
   "metadata": {},
   "source": [
    "### Scores dos modelos"
   ]
  },
  {
   "cell_type": "code",
   "execution_count": 24,
   "id": "d946fce7",
   "metadata": {},
   "outputs": [
    {
     "name": "stdout",
     "output_type": "stream",
     "text": [
      "[[7473   93]\n",
      " [ 225  185]]\n",
      "[[7455  111]\n",
      " [ 173  237]]\n",
      "[[7463  103]\n",
      " [ 205  205]]\n",
      "[[7553   13]\n",
      " [ 372   38]]\n",
      "[[7417  149]\n",
      " [ 124  286]]\n"
     ]
    }
   ],
   "source": [
    "# listas para receber os scores\n",
    "roc_auc = []\n",
    "accuracy = []\n",
    "precision = []\n",
    "recall = []\n",
    "f1_scr = []\n",
    "modelo = []\n",
    "\n",
    "# tupla com os modelos\n",
    "clf_models = (sgd_clf, forest_clf, logreg_clf, svc_clf, xgb_clf)\n",
    "\n",
    "for clf in clf_models:\n",
    "    \n",
    "    y_pred = cross_val_predict(clf, X_train_prep, y_train, cv=5)\n",
    "    \n",
    "    if clf in (sgd_clf, svc_clf):\n",
    "        roc_auc.append(roc_auc_score(y_train, cross_val_predict(clf, X_train_prep, y_train, cv=5, method=\"decision_function\")))\n",
    "    else:\n",
    "        roc_auc.append(roc_auc_score(y_train, cross_val_predict(clf, X_train_prep, y_train, cv=5, method=\"predict_proba\")[:,1]))\n",
    "        \n",
    "    accuracy.append(accuracy_score(y_train, y_pred))\n",
    "    precision.append(precision_score(y_train, y_pred))\n",
    "    recall.append(recall_score(y_train, y_pred))\n",
    "    f1_scr.append(f1_score(y_train, y_pred))\n",
    "    modelo.append(clf.__class__.__name__)\n",
    "    print(confusion_matrix(y_train, y_pred))\n"
   ]
  },
  {
   "cell_type": "code",
   "execution_count": 25,
   "id": "f0b2ac0a",
   "metadata": {},
   "outputs": [
    {
     "data": {
      "text/html": [
       "<div>\n",
       "<style scoped>\n",
       "    .dataframe tbody tr th:only-of-type {\n",
       "        vertical-align: middle;\n",
       "    }\n",
       "\n",
       "    .dataframe tbody tr th {\n",
       "        vertical-align: top;\n",
       "    }\n",
       "\n",
       "    .dataframe thead th {\n",
       "        text-align: right;\n",
       "    }\n",
       "</style>\n",
       "<table border=\"1\" class=\"dataframe\">\n",
       "  <thead>\n",
       "    <tr style=\"text-align: right;\">\n",
       "      <th></th>\n",
       "      <th>roc_auc</th>\n",
       "      <th>accuracy</th>\n",
       "      <th>precision</th>\n",
       "      <th>recall</th>\n",
       "      <th>f1_score</th>\n",
       "      <th>modelo</th>\n",
       "    </tr>\n",
       "  </thead>\n",
       "  <tbody>\n",
       "    <tr>\n",
       "      <th>0</th>\n",
       "      <td>0.981401</td>\n",
       "      <td>0.965772</td>\n",
       "      <td>0.657471</td>\n",
       "      <td>0.697561</td>\n",
       "      <td>0.676923</td>\n",
       "      <td>XGBClassifier</td>\n",
       "    </tr>\n",
       "    <tr>\n",
       "      <th>1</th>\n",
       "      <td>0.979688</td>\n",
       "      <td>0.964393</td>\n",
       "      <td>0.681034</td>\n",
       "      <td>0.578049</td>\n",
       "      <td>0.625330</td>\n",
       "      <td>RandomForestClassifier</td>\n",
       "    </tr>\n",
       "    <tr>\n",
       "      <th>2</th>\n",
       "      <td>0.971770</td>\n",
       "      <td>0.961384</td>\n",
       "      <td>0.665584</td>\n",
       "      <td>0.500000</td>\n",
       "      <td>0.571031</td>\n",
       "      <td>LogisticRegression</td>\n",
       "    </tr>\n",
       "    <tr>\n",
       "      <th>3</th>\n",
       "      <td>0.967519</td>\n",
       "      <td>0.960130</td>\n",
       "      <td>0.665468</td>\n",
       "      <td>0.451220</td>\n",
       "      <td>0.537791</td>\n",
       "      <td>SGDClassifier</td>\n",
       "    </tr>\n",
       "    <tr>\n",
       "      <th>4</th>\n",
       "      <td>0.971137</td>\n",
       "      <td>0.951730</td>\n",
       "      <td>0.745098</td>\n",
       "      <td>0.092683</td>\n",
       "      <td>0.164859</td>\n",
       "      <td>SVC</td>\n",
       "    </tr>\n",
       "  </tbody>\n",
       "</table>\n",
       "</div>"
      ],
      "text/plain": [
       "    roc_auc  accuracy  precision    recall  f1_score                  modelo\n",
       "0  0.981401  0.965772   0.657471  0.697561  0.676923           XGBClassifier\n",
       "1  0.979688  0.964393   0.681034  0.578049  0.625330  RandomForestClassifier\n",
       "2  0.971770  0.961384   0.665584  0.500000  0.571031      LogisticRegression\n",
       "3  0.967519  0.960130   0.665468  0.451220  0.537791           SGDClassifier\n",
       "4  0.971137  0.951730   0.745098  0.092683  0.164859                     SVC"
      ]
     },
     "execution_count": 25,
     "metadata": {},
     "output_type": "execute_result"
    }
   ],
   "source": [
    "# dataframe com os scores consolidados\n",
    "df = pd.DataFrame({\"roc_auc\": roc_auc,\n",
    "                   \"accuracy\": accuracy,\n",
    "                   \"precision\": precision,\n",
    "                   \"recall\": recall,\n",
    "                   \"f1_score\": f1_scr,\n",
    "                   \"modelo\": modelo}\n",
    "                 ).sort_values(\"f1_score\", ascending=False, ignore_index=True)\n",
    "\n",
    "df"
   ]
  },
  {
   "cell_type": "markdown",
   "id": "92af0480",
   "metadata": {},
   "source": [
    "#### Escolha do modelo\n",
    "Utilizando a métrica de ``f1_score`` como parâmetro de performance, o modelo de **XGBClassifier** é o mais performático entre os 5 modelos utilizados. Todos os modelos foram devidamente otimizados, tunando seus hiper parâmetros para alcançarem a melhor performance, mas mantendo sua capacidade de generalização para novos dados."
   ]
  },
  {
   "cell_type": "markdown",
   "id": "6dbc4fa0",
   "metadata": {},
   "source": [
    "### Validação com dataset de teste"
   ]
  },
  {
   "cell_type": "code",
   "execution_count": 26,
   "id": "143cf95d",
   "metadata": {},
   "outputs": [
    {
     "data": {
      "text/html": [
       "<div>\n",
       "<style scoped>\n",
       "    .dataframe tbody tr th:only-of-type {\n",
       "        vertical-align: middle;\n",
       "    }\n",
       "\n",
       "    .dataframe tbody tr th {\n",
       "        vertical-align: top;\n",
       "    }\n",
       "\n",
       "    .dataframe thead th {\n",
       "        text-align: right;\n",
       "    }\n",
       "</style>\n",
       "<table border=\"1\" class=\"dataframe\">\n",
       "  <thead>\n",
       "    <tr style=\"text-align: right;\">\n",
       "      <th></th>\n",
       "      <th>NR_IDADE_DATA_POSSE</th>\n",
       "      <th>REELEICAO</th>\n",
       "      <th>COR_RACA_AMARELA</th>\n",
       "      <th>COR_RACA_BRANCA</th>\n",
       "      <th>COR_RACA_INDIGENA</th>\n",
       "      <th>COR_RACA_NAO_INFORMADO</th>\n",
       "      <th>COR_RACA_PARDA</th>\n",
       "      <th>COR_RACA_PRETA</th>\n",
       "      <th>GENERO</th>\n",
       "      <th>FUNDO ESPECIAL</th>\n",
       "      <th>...</th>\n",
       "      <th>PART_PRES_POS</th>\n",
       "      <th>INSTA_FLW</th>\n",
       "      <th>TK_FLW</th>\n",
       "      <th>TK_LIKE</th>\n",
       "      <th>FB_FLW</th>\n",
       "      <th>TWT_FLW</th>\n",
       "      <th>QT_VAGAS_UE</th>\n",
       "      <th>QUOCIENTE_ELEITORAL_UE</th>\n",
       "      <th>RECEITA_TOTAL</th>\n",
       "      <th>FLW_TOTAL</th>\n",
       "    </tr>\n",
       "  </thead>\n",
       "  <tbody>\n",
       "    <tr>\n",
       "      <th>0</th>\n",
       "      <td>29</td>\n",
       "      <td>0.0</td>\n",
       "      <td>0.0</td>\n",
       "      <td>1.0</td>\n",
       "      <td>0.0</td>\n",
       "      <td>0.0</td>\n",
       "      <td>0.0</td>\n",
       "      <td>0.0</td>\n",
       "      <td>1.0</td>\n",
       "      <td>5022.0</td>\n",
       "      <td>...</td>\n",
       "      <td>0.0</td>\n",
       "      <td>987</td>\n",
       "      <td>0</td>\n",
       "      <td>14600</td>\n",
       "      <td>987</td>\n",
       "      <td>0</td>\n",
       "      <td>25.0</td>\n",
       "      <td>198795.0</td>\n",
       "      <td>6114.00</td>\n",
       "      <td>1974</td>\n",
       "    </tr>\n",
       "    <tr>\n",
       "      <th>1</th>\n",
       "      <td>54</td>\n",
       "      <td>0.0</td>\n",
       "      <td>0.0</td>\n",
       "      <td>1.0</td>\n",
       "      <td>0.0</td>\n",
       "      <td>0.0</td>\n",
       "      <td>0.0</td>\n",
       "      <td>0.0</td>\n",
       "      <td>0.0</td>\n",
       "      <td>0.0</td>\n",
       "      <td>...</td>\n",
       "      <td>0.0</td>\n",
       "      <td>952</td>\n",
       "      <td>0</td>\n",
       "      <td>0</td>\n",
       "      <td>952</td>\n",
       "      <td>0</td>\n",
       "      <td>31.0</td>\n",
       "      <td>198381.0</td>\n",
       "      <td>2040.00</td>\n",
       "      <td>1904</td>\n",
       "    </tr>\n",
       "    <tr>\n",
       "      <th>2</th>\n",
       "      <td>31</td>\n",
       "      <td>0.0</td>\n",
       "      <td>0.0</td>\n",
       "      <td>1.0</td>\n",
       "      <td>0.0</td>\n",
       "      <td>0.0</td>\n",
       "      <td>0.0</td>\n",
       "      <td>0.0</td>\n",
       "      <td>0.0</td>\n",
       "      <td>0.0</td>\n",
       "      <td>...</td>\n",
       "      <td>0.0</td>\n",
       "      <td>27</td>\n",
       "      <td>0</td>\n",
       "      <td>0</td>\n",
       "      <td>27</td>\n",
       "      <td>0</td>\n",
       "      <td>8.0</td>\n",
       "      <td>108643.0</td>\n",
       "      <td>0.00</td>\n",
       "      <td>54</td>\n",
       "    </tr>\n",
       "    <tr>\n",
       "      <th>3</th>\n",
       "      <td>34</td>\n",
       "      <td>0.0</td>\n",
       "      <td>0.0</td>\n",
       "      <td>0.0</td>\n",
       "      <td>0.0</td>\n",
       "      <td>0.0</td>\n",
       "      <td>1.0</td>\n",
       "      <td>0.0</td>\n",
       "      <td>1.0</td>\n",
       "      <td>0.0</td>\n",
       "      <td>...</td>\n",
       "      <td>0.0</td>\n",
       "      <td>3533</td>\n",
       "      <td>0</td>\n",
       "      <td>0</td>\n",
       "      <td>3533</td>\n",
       "      <td>0</td>\n",
       "      <td>9.0</td>\n",
       "      <td>183418.0</td>\n",
       "      <td>2614.34</td>\n",
       "      <td>7066</td>\n",
       "    </tr>\n",
       "    <tr>\n",
       "      <th>4</th>\n",
       "      <td>43</td>\n",
       "      <td>0.0</td>\n",
       "      <td>0.0</td>\n",
       "      <td>0.0</td>\n",
       "      <td>0.0</td>\n",
       "      <td>0.0</td>\n",
       "      <td>0.0</td>\n",
       "      <td>1.0</td>\n",
       "      <td>1.0</td>\n",
       "      <td>4000.0</td>\n",
       "      <td>...</td>\n",
       "      <td>0.0</td>\n",
       "      <td>425</td>\n",
       "      <td>0</td>\n",
       "      <td>0</td>\n",
       "      <td>425</td>\n",
       "      <td>0</td>\n",
       "      <td>46.0</td>\n",
       "      <td>186435.0</td>\n",
       "      <td>4000.00</td>\n",
       "      <td>850</td>\n",
       "    </tr>\n",
       "  </tbody>\n",
       "</table>\n",
       "<p>5 rows × 24 columns</p>\n",
       "</div>"
      ],
      "text/plain": [
       "   NR_IDADE_DATA_POSSE  REELEICAO  COR_RACA_AMARELA  COR_RACA_BRANCA  \\\n",
       "0                   29        0.0               0.0              1.0   \n",
       "1                   54        0.0               0.0              1.0   \n",
       "2                   31        0.0               0.0              1.0   \n",
       "3                   34        0.0               0.0              0.0   \n",
       "4                   43        0.0               0.0              0.0   \n",
       "\n",
       "   COR_RACA_INDIGENA  COR_RACA_NAO_INFORMADO  COR_RACA_PARDA  COR_RACA_PRETA  \\\n",
       "0                0.0                     0.0             0.0             0.0   \n",
       "1                0.0                     0.0             0.0             0.0   \n",
       "2                0.0                     0.0             0.0             0.0   \n",
       "3                0.0                     0.0             1.0             0.0   \n",
       "4                0.0                     0.0             0.0             1.0   \n",
       "\n",
       "   GENERO  FUNDO ESPECIAL  ...  PART_PRES_POS  INSTA_FLW  TK_FLW  TK_LIKE  \\\n",
       "0     1.0          5022.0  ...            0.0        987       0    14600   \n",
       "1     0.0             0.0  ...            0.0        952       0        0   \n",
       "2     0.0             0.0  ...            0.0         27       0        0   \n",
       "3     1.0             0.0  ...            0.0       3533       0        0   \n",
       "4     1.0          4000.0  ...            0.0        425       0        0   \n",
       "\n",
       "   FB_FLW  TWT_FLW  QT_VAGAS_UE  QUOCIENTE_ELEITORAL_UE  RECEITA_TOTAL  \\\n",
       "0     987        0         25.0                198795.0        6114.00   \n",
       "1     952        0         31.0                198381.0        2040.00   \n",
       "2      27        0          8.0                108643.0           0.00   \n",
       "3    3533        0          9.0                183418.0        2614.34   \n",
       "4     425        0         46.0                186435.0        4000.00   \n",
       "\n",
       "   FLW_TOTAL  \n",
       "0       1974  \n",
       "1       1904  \n",
       "2         54  \n",
       "3       7066  \n",
       "4        850  \n",
       "\n",
       "[5 rows x 24 columns]"
      ]
     },
     "execution_count": 26,
     "metadata": {},
     "output_type": "execute_result"
    }
   ],
   "source": [
    "# faz as modificacoes que foram feitas no dataset de treino\n",
    "depfed_test_df[\"RECEITA_TOTAL\"] = depfed_test_df[\"FUNDO ESPECIAL\"] + depfed_test_df[\"OUTROS RECURSOS\"] + \\\n",
    "                                    depfed_test_df[\"FUNDO PARTIDARIO\"]\n",
    "\n",
    "depfed_test_df[\"FLW_TOTAL\"] = depfed_test_df[\"INSTA_FLW\"] + depfed_test_df[\"TWT_FLW\"] + \\\n",
    "                                depfed_test_df[\"FB_FLW\"] + depfed_test_df[\"TK_FLW\"]\n",
    "\n",
    "# targets de teste\n",
    "y_test = depfed_test_df[\"ST_ELEITORAL\"].values\n",
    "\n",
    "depfed_test_df = depfed_test_df.drop(['SQ_CANDIDATO','NM_CANDIDATO','ST_ELEITORAL'], axis=1, inplace=False)\n",
    "depfed_test_df.head()"
   ]
  },
  {
   "cell_type": "code",
   "execution_count": 27,
   "id": "986e11d6",
   "metadata": {},
   "outputs": [],
   "source": [
    "# aplica a transfomação feita no treino no dataset de teste\n",
    "X_test_prep = full_pipeline.transform(depfed_test_df)"
   ]
  },
  {
   "cell_type": "code",
   "execution_count": 28,
   "id": "0a086620",
   "metadata": {},
   "outputs": [
    {
     "name": "stdout",
     "output_type": "stream",
     "text": [
      "Scores no dataset de teste\n",
      "roc_auc:  0.9847668824734436\n",
      "accuracy:  0.9633901705115346\n",
      "precision:  0.631578947368421\n",
      "recall:  0.6990291262135923\n",
      "f1_score:  0.6635944700460831\n"
     ]
    }
   ],
   "source": [
    "# previsão nos dados de teste\n",
    "y_pred = xgb_clf.predict(X_test_prep)\n",
    "\n",
    "roc_auc = roc_auc_score(y_test, xgb_clf.predict_proba(X_test_prep)[:, 1])\n",
    "accuracy = accuracy_score(y_test, y_pred)\n",
    "precision = precision_score(y_test, y_pred)\n",
    "recall = recall_score(y_test, y_pred)\n",
    "f1_scr = f1_score(y_test, y_pred)\n",
    "\n",
    "print(\"Scores no dataset de teste\")\n",
    "print(\"roc_auc: \", roc_auc)\n",
    "print(\"accuracy: \", accuracy)\n",
    "print(\"precision: \", precision)\n",
    "print(\"recall: \", recall)\n",
    "print(\"f1_score: \", f1_scr)"
   ]
  },
  {
   "cell_type": "markdown",
   "id": "3ef2969d",
   "metadata": {},
   "source": [
    "Comparando-se os scores de teste e treinamento, observa-se que eles estão **bem próximos**. Isto é excelente, mostrando que o modelo consegue generalizar com consistência (modelo devidamente ajustado aos dados).\n",
    "\n",
    "Agora, para finalizar, podemos treinar o modelo em todo o dataset."
   ]
  },
  {
   "cell_type": "code",
   "execution_count": 29,
   "id": "23f8a475",
   "metadata": {},
   "outputs": [],
   "source": [
    "# faz as modificacoes que foram feitas no dataset de treino e teste\n",
    "depfed_dataset_df[\"RECEITA_TOTAL\"] = depfed_dataset_df[\"FUNDO ESPECIAL\"] + depfed_dataset_df[\"OUTROS RECURSOS\"] + \\\n",
    "                                    depfed_dataset_df[\"FUNDO PARTIDARIO\"]\n",
    "\n",
    "depfed_dataset_df[\"FLW_TOTAL\"] = depfed_dataset_df[\"INSTA_FLW\"] + depfed_dataset_df[\"TWT_FLW\"] + \\\n",
    "                                depfed_dataset_df[\"FB_FLW\"] + depfed_dataset_df[\"TK_FLW\"]\n",
    "\n",
    "# targets de teste\n",
    "y_full = depfed_dataset_df[\"ST_ELEITORAL\"].values\n",
    "\n",
    "depfed_dataset_full_df = depfed_dataset_df.drop(['SQ_CANDIDATO','NM_CANDIDATO','ST_ELEITORAL'], axis=1, inplace=False)\n",
    "\n",
    "# aplica a transfomação feita no treino no dataset de teste\n",
    "X_full = full_pipeline.transform(depfed_dataset_full_df)"
   ]
  },
  {
   "cell_type": "code",
   "execution_count": 30,
   "id": "2ce54d57",
   "metadata": {},
   "outputs": [
    {
     "data": {
      "text/plain": [
       "(9970, 24)"
      ]
     },
     "execution_count": 30,
     "metadata": {},
     "output_type": "execute_result"
    }
   ],
   "source": [
    "X_full.shape"
   ]
  },
  {
   "cell_type": "code",
   "execution_count": 31,
   "id": "2ba1744b",
   "metadata": {},
   "outputs": [
    {
     "data": {
      "text/plain": [
       "XGBClassifier(base_score=0.5, booster='gbtree', callbacks=None,\n",
       "              colsample_bylevel=1, colsample_bynode=0.75, colsample_bytree=0.5,\n",
       "              early_stopping_rounds=None, enable_categorical=False,\n",
       "              eval_metric=None, feature_types=None, gamma=0, gpu_id=-1,\n",
       "              grow_policy='depthwise', importance_type=None,\n",
       "              interaction_constraints='', learning_rate=0.095, max_bin=256,\n",
       "              max_cat_threshold=64, max_cat_to_onehot=4, max_delta_step=0,\n",
       "              max_depth=3, max_leaves=0, min_child_weight=0.75, missing=nan,\n",
       "              monotone_constraints='()', n_estimators=130, n_jobs=0,\n",
       "              num_parallel_tree=1, predictor='auto', random_state=42, ...)"
      ]
     },
     "execution_count": 31,
     "metadata": {},
     "output_type": "execute_result"
    }
   ],
   "source": [
    "xgb_clf.fit(X_full, y_full)"
   ]
  },
  {
   "cell_type": "code",
   "execution_count": 32,
   "id": "97f49622",
   "metadata": {},
   "outputs": [
    {
     "name": "stdout",
     "output_type": "stream",
     "text": [
      "Scores no dataset de teste\n",
      "roc_auc:  0.9924865622399613\n",
      "accuracy:  0.9779338014042126\n",
      "precision:  0.7565674255691769\n",
      "recall:  0.8421052631578947\n",
      "f1_score:  0.7970479704797048\n"
     ]
    }
   ],
   "source": [
    "# previsão nos dados de teste\n",
    "y_full_pred = xgb_clf.predict(X_full)\n",
    "\n",
    "roc_auc = roc_auc_score(y_full, xgb_clf.predict_proba(X_full)[:, 1])\n",
    "accuracy = accuracy_score(y_full, y_full_pred)\n",
    "precision = precision_score(y_full, y_full_pred)\n",
    "recall = recall_score(y_full, y_full_pred)\n",
    "f1_scr = f1_score(y_full, y_full_pred)\n",
    "\n",
    "print(\"Scores no dataset de teste\")\n",
    "print(\"roc_auc: \", roc_auc)\n",
    "print(\"accuracy: \", accuracy)\n",
    "print(\"precision: \", precision)\n",
    "print(\"recall: \", recall)\n",
    "print(\"f1_score: \", f1_scr)"
   ]
  },
  {
   "cell_type": "markdown",
   "id": "5a2f034b",
   "metadata": {},
   "source": [
    "### Download dataset"
   ]
  },
  {
   "cell_type": "code",
   "execution_count": 33,
   "id": "c7609b0e",
   "metadata": {},
   "outputs": [],
   "source": [
    "depfed_pred_df = depfed_dataset_df.copy()\n",
    "\n",
    "depfed_pred_df[\"Y_PRED\"] = xgb_clf.predict_proba(X_full)[:, 1]\n",
    "depfed_pred_df[\"ST_ELEITORAL_PRED\"] = y_full_pred\n",
    "\n",
    "depfed_pred_df.to_csv(r'./dataset/depfed_pred_df.csv',\n",
    "                         encoding = 'utf-8-sig',\n",
    "                         index = False)"
   ]
  },
  {
   "cell_type": "markdown",
   "id": "6de38918",
   "metadata": {},
   "source": [
    "### Dump do modelo"
   ]
  },
  {
   "cell_type": "code",
   "execution_count": 42,
   "id": "67bb674c",
   "metadata": {},
   "outputs": [
    {
     "data": {
      "text/plain": [
       "['./gradio_spaces_app/depfed_previsao_eleicao\\\\scaler.pkl']"
      ]
     },
     "execution_count": 42,
     "metadata": {},
     "output_type": "execute_result"
    }
   ],
   "source": [
    "joblib.dump(xgb_clf, os.path.join(r'./gradio_spaces_app/depfed_previsao_eleicao', \"model.pkl\"))\n",
    "joblib.dump(full_pipeline, os.path.join(r'./gradio_spaces_app/depfed_previsao_eleicao', \"scaler.pkl\"))"
   ]
  },
  {
   "cell_type": "code",
   "execution_count": null,
   "id": "20d5e32b",
   "metadata": {},
   "outputs": [],
   "source": []
  }
 ],
 "metadata": {
  "kernelspec": {
   "display_name": "Python 3 (ipykernel)",
   "language": "python",
   "name": "python3"
  },
  "language_info": {
   "codemirror_mode": {
    "name": "ipython",
    "version": 3
   },
   "file_extension": ".py",
   "mimetype": "text/x-python",
   "name": "python",
   "nbconvert_exporter": "python",
   "pygments_lexer": "ipython3",
   "version": "3.9.12"
  }
 },
 "nbformat": 4,
 "nbformat_minor": 5
}
